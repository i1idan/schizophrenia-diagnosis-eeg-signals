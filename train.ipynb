{
 "cells": [
  {
   "cell_type": "markdown",
   "id": "ec06fe58",
   "metadata": {
    "colab_type": "text",
    "id": "view-in-github"
   },
   "source": [
    "<a href=\"https://colab.research.google.com/github/i1idan/schizophrenia-diagnosis-eeg-signals/blob/main/train.ipynb\" target=\"_parent\"><img src=\"https://colab.research.google.com/assets/colab-badge.svg\" alt=\"Open In Colab\"/></a>"
   ]
  },
  {
   "cell_type": "code",
   "execution_count": null,
   "id": "B7YlhS4gYc8s",
   "metadata": {
    "colab": {
     "base_uri": "https://localhost:8080/"
    },
    "id": "B7YlhS4gYc8s",
    "outputId": "7ed228ec-718f-43ae-bf46-9511ead2581e"
   },
   "outputs": [],
   "source": [
    "from google.colab import drive\n",
    "drive.mount('/content/drive')"
   ]
  },
  {
   "cell_type": "markdown",
   "id": "FB7LuLHBlpvM",
   "metadata": {
    "id": "FB7LuLHBlpvM"
   },
   "source": [
    "# Clone the Repository"
   ]
  },
  {
   "cell_type": "code",
   "execution_count": null,
   "id": "0d35c532",
   "metadata": {
    "colab": {
     "base_uri": "https://localhost:8080/"
    },
    "id": "0d35c532",
    "outputId": "cb3b1d58-fdfb-48f5-9fa6-dadc8a12fc24"
   },
   "outputs": [],
   "source": [
    "!git clone https://github.com/i1idan/schizophrenia-diagnosis-eeg-signals.git"
   ]
  },
  {
   "cell_type": "code",
   "execution_count": null,
   "id": "6X3Blwu5ZKWq",
   "metadata": {
    "colab": {
     "base_uri": "https://localhost:8080/"
    },
    "id": "6X3Blwu5ZKWq",
    "outputId": "77e2207f-1941-4df9-d692-dd19d7811671"
   },
   "outputs": [],
   "source": [
    "import os\n",
    "os.chdir('/content/schizophrenia-diagnosis-eeg-signals')\n",
    "!git pull origin main"
   ]
  },
  {
   "cell_type": "markdown",
   "id": "pfZzZofyZVB_",
   "metadata": {
    "id": "pfZzZofyZVB_"
   },
   "source": [
    "# Install Requirements"
   ]
  },
  {
   "cell_type": "code",
   "execution_count": null,
   "id": "f3uUKOYfZUiA",
   "metadata": {
    "colab": {
     "base_uri": "https://localhost:8080/"
    },
    "id": "f3uUKOYfZUiA",
    "outputId": "1e927faf-42ef-421a-f8e8-7d640bfb6b07"
   },
   "outputs": [],
   "source": [
    "!pip install -r requirements.txt"
   ]
  },
  {
   "cell_type": "markdown",
   "id": "lCirzbPuZyuQ",
   "metadata": {
    "id": "lCirzbPuZyuQ"
   },
   "source": [
    "# Get Data"
   ]
  },
  {
   "cell_type": "code",
   "execution_count": null,
   "id": "tsJQv-K5Z0k-",
   "metadata": {
    "colab": {
     "base_uri": "https://localhost:8080/"
    },
    "id": "tsJQv-K5Z0k-",
    "outputId": "87b9103c-18b2-4af4-ab91-2797b4e663e3"
   },
   "outputs": [],
   "source": [
    "!gdown --id 1jnWHWrArzJQIvny0cQkfPP42hEJAp_56\n",
    "!mv DATA.mat /content/schizophrenia-diagnosis-eeg-signals/data/DATA.mat"
   ]
  },
  {
   "cell_type": "markdown",
   "id": "4130c324",
   "metadata": {
    "id": "4130c324"
   },
   "source": [
    "# Training Models"
   ]
  },
  {
   "cell_type": "code",
   "execution_count": null,
   "id": "98c9e21c",
   "metadata": {
    "id": "98c9e21c"
   },
   "outputs": [],
   "source": [
    "# Number of training in a sequence\n",
    "multi_train = 10\n",
    "epochs = 200\n",
    "model_name = \"FFTCustom\"\n",
    "data_path = \"./data/DATA.mat\"\n",
    "checkpoints = \"/content/drive/MyDrive/schizophrenia/checkpoints\"\n",
    "# checkpoints = \"./checkpoints\"\n",
    "batch_size = 4\n",
    "early_stopping = 100\n",
    "reduce_lr = 50\n",
    "seed = 1234"
   ]
  },
  {
   "cell_type": "code",
   "execution_count": null,
   "id": "4bf6ef6b",
   "metadata": {
    "colab": {
     "base_uri": "https://localhost:8080/"
    },
    "id": "4bf6ef6b",
    "outputId": "87919b59-9c9b-4601-d6a1-c93a5e63b286",
    "scrolled": true
   },
   "outputs": [],
   "source": [
    "csv_files = []\n",
    "for n in range(multi_train):\n",
    "    dir_name = f\"{n}\"\n",
    "    new_seed = seed + n\n",
    "    # preserve reproducibility\n",
    "    !PYTHONHASHSEED=0\n",
    "    !TF_DETERMINISTIC_OPS=0\n",
    "    !TF_CUDNN_DETERMINISTIC=0\n",
    "    !python train.py --model-name $model_name --epochs $epochs --seed $new_seed --dir-name $dir_name --checkpoints $checkpoints --batch-size $batch_size\n",
    "    print(f\"-----------------------------train {n} is done! ----------------------------------\")"
   ]
  },
  {
   "cell_type": "markdown",
   "id": "0977a1b7",
   "metadata": {
    "id": "0977a1b7"
   },
   "source": [
    "# Get Metrics"
   ]
  },
  {
   "cell_type": "code",
   "execution_count": null,
   "id": "34cf3098",
   "metadata": {
    "id": "34cf3098",
    "outputId": "d581a2c5-f802-4e46-ebdb-8f9220da1b11",
    "scrolled": true
   },
   "outputs": [],
   "source": [
    "from utils.group_metrics import get_mean_std\n",
    "import os\n",
    "\n",
    "csv_files = [os.path.join(checkpoints, model_name ,f\"{n}\", \"log.csv\") for n in range(multi_train)]\n",
    "metrics = get_mean_std(csv_files, \n",
    "                       arguments=(\"accuracy\", \"loss\", \"val_accuracy\", \"val_loss\"),\n",
    "                       operators=(max, min, max, min)\n",
    "                      )\n",
    "print(metrics)"
   ]
  },
  {
   "cell_type": "code",
   "execution_count": null,
   "id": "be7e53a2",
   "metadata": {
    "id": "be7e53a2"
   },
   "outputs": [],
   "source": []
  }
 ],
 "metadata": {
  "accelerator": "GPU",
  "colab": {
   "include_colab_link": true,
   "name": "train.ipynb",
   "provenance": []
  },
  "kernelspec": {
   "display_name": "Python 3 (ipykernel)",
   "language": "python",
   "name": "python3"
  },
  "language_info": {
   "codemirror_mode": {
    "name": "ipython",
    "version": 3
   },
   "file_extension": ".py",
   "mimetype": "text/x-python",
   "name": "python",
   "nbconvert_exporter": "python",
   "pygments_lexer": "ipython3",
   "version": "3.9.7"
  }
 },
 "nbformat": 4,
 "nbformat_minor": 5
}
