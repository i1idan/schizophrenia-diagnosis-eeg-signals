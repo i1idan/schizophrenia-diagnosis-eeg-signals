{
 "cells": [
  {
   "cell_type": "markdown",
   "id": "ec06fe58",
   "metadata": {
    "colab_type": "text",
    "id": "view-in-github"
   },
   "source": [
    "<a href=\"https://colab.research.google.com/github/i1idan/schizophrenia-diagnosis-eeg-signals/blob/main/train.ipynb\" target=\"_parent\"><img src=\"https://colab.research.google.com/assets/colab-badge.svg\" alt=\"Open In Colab\"/></a>"
   ]
  },
  {
   "cell_type": "code",
   "execution_count": null,
   "id": "B7YlhS4gYc8s",
   "metadata": {
    "colab": {
     "base_uri": "https://localhost:8080/"
    },
    "id": "B7YlhS4gYc8s",
    "outputId": "7ed228ec-718f-43ae-bf46-9511ead2581e"
   },
   "outputs": [],
   "source": [
    "from google.colab import drive\n",
    "drive.mount('/content/drive')"
   ]
  },
  {
   "cell_type": "markdown",
   "id": "FB7LuLHBlpvM",
   "metadata": {
    "id": "FB7LuLHBlpvM"
   },
   "source": [
    "# Clone the Repository"
   ]
  },
  {
   "cell_type": "code",
   "execution_count": null,
   "id": "0d35c532",
   "metadata": {
    "colab": {
     "base_uri": "https://localhost:8080/"
    },
    "id": "0d35c532",
    "outputId": "cb3b1d58-fdfb-48f5-9fa6-dadc8a12fc24"
   },
   "outputs": [],
   "source": [
    "!git clone https://github.com/i1idan/schizophrenia-diagnosis-eeg-signals.git"
   ]
  },
  {
   "cell_type": "code",
   "execution_count": null,
   "id": "6X3Blwu5ZKWq",
   "metadata": {
    "colab": {
     "base_uri": "https://localhost:8080/"
    },
    "id": "6X3Blwu5ZKWq",
    "outputId": "77e2207f-1941-4df9-d692-dd19d7811671"
   },
   "outputs": [],
   "source": [
    "import os\n",
    "os.chdir('/content/schizophrenia-diagnosis-eeg-signals')\n",
    "!git pull origin main"
   ]
  },
  {
   "cell_type": "markdown",
   "id": "pfZzZofyZVB_",
   "metadata": {
    "id": "pfZzZofyZVB_"
   },
   "source": [
    "# Install Requirements"
   ]
  },
  {
   "cell_type": "code",
   "execution_count": null,
   "id": "f3uUKOYfZUiA",
   "metadata": {
    "colab": {
     "base_uri": "https://localhost:8080/"
    },
    "id": "f3uUKOYfZUiA",
    "outputId": "1e927faf-42ef-421a-f8e8-7d640bfb6b07"
   },
   "outputs": [],
   "source": [
    "!pip install -r requirements.txt"
   ]
  },
  {
   "cell_type": "markdown",
   "id": "lCirzbPuZyuQ",
   "metadata": {
    "id": "lCirzbPuZyuQ"
   },
   "source": [
    "# Get Data"
   ]
  },
  {
   "cell_type": "code",
   "execution_count": null,
   "id": "tsJQv-K5Z0k-",
   "metadata": {
    "colab": {
     "base_uri": "https://localhost:8080/"
    },
    "id": "tsJQv-K5Z0k-",
    "outputId": "87b9103c-18b2-4af4-ab91-2797b4e663e3"
   },
   "outputs": [],
   "source": [
    "!gdown --id 1jnWHWrArzJQIvny0cQkfPP42hEJAp_56\n",
    "!mv DATA.mat /content/schizophrenia-diagnosis-eeg-signals/data/DATA.mat"
   ]
  },
  {
   "cell_type": "markdown",
   "id": "4130c324",
   "metadata": {
    "id": "4130c324"
   },
   "source": [
    "# Training Models"
   ]
  },
  {
   "cell_type": "code",
   "execution_count": 1,
   "id": "cec47861",
   "metadata": {},
   "outputs": [],
   "source": [
    "import os\n",
    "import warnings\n",
    "from train import main\n",
    "import pandas as pd\n",
    "import numpy as np\n",
    "import matplotlib.pyplot as plt\n",
    "import seaborn as sn"
   ]
  },
  {
   "cell_type": "code",
   "execution_count": 2,
   "id": "98c9e21c",
   "metadata": {
    "id": "98c9e21c"
   },
   "outputs": [],
   "source": [
    "# Number of training in a sequence\n",
    "multi_train = 10\n",
    "epochs = 200\n",
    "model_names = [\"WaveletCustom\", \"FFTCustom\", \"Transformer\", \"conv_lstm\"]\n",
    "data_path = \"./data/DATA.mat\"\n",
    "# checkpoints = \"/content/drive/MyDrive/schizophrenia/checkpoints\"\n",
    "checkpoints = \"./checkpoints\"\n",
    "batch_size = 4\n",
    "early_stopping = 100\n",
    "reduce_lr = 50\n",
    "seed = 1234"
   ]
  },
  {
   "cell_type": "code",
   "execution_count": 4,
   "id": "4bf6ef6b",
   "metadata": {
    "colab": {
     "base_uri": "https://localhost:8080/"
    },
    "id": "4bf6ef6b",
    "outputId": "87919b59-9c9b-4601-d6a1-c93a5e63b286"
   },
   "outputs": [
    {
     "name": "stdout",
     "output_type": "stream",
     "text": [
      "[INFO] Model:conv_lstm is loaded ...\n",
      "Model: \"sequential\"\n",
      "_________________________________________________________________\n",
      " Layer (type)                Output Shape              Param #   \n",
      "=================================================================\n",
      " time_distributed (TimeDistr  (None, None, 96, 8)      48        \n",
      " ibuted)                                                         \n",
      "                                                                 \n",
      " time_distributed_1 (TimeDis  (None, None, 92, 4)      164       \n",
      " tributed)                                                       \n",
      "                                                                 \n",
      " time_distributed_2 (TimeDis  (None, None, 88, 2)      42        \n",
      " tributed)                                                       \n",
      "                                                                 \n",
      " dropout (Dropout)           (None, None, 88, 2)       0         \n",
      "                                                                 \n",
      " time_distributed_3 (TimeDis  (None, None, 44, 2)      0         \n",
      " tributed)                                                       \n",
      "                                                                 \n",
      " time_distributed_4 (TimeDis  (None, None, 88)         0         \n",
      " tributed)                                                       \n",
      "                                                                 \n",
      " lstm (LSTM)                 (None, 512)               1230848   \n",
      "                                                                 \n",
      " dropout_1 (Dropout)         (None, 512)               0         \n",
      "                                                                 \n",
      " dense (Dense)               (None, 128)               65664     \n",
      "                                                                 \n",
      " dropout_2 (Dropout)         (None, 128)               0         \n",
      "                                                                 \n",
      " dense_1 (Dense)             (None, 1)                 129       \n",
      "                                                                 \n",
      "=================================================================\n",
      "Total params: 1,296,895\n",
      "Trainable params: 1,296,895\n",
      "Non-trainable params: 0\n",
      "_________________________________________________________________\n",
      "[INFO] Loading 1d data\n",
      "[INFO] H.shape: (14,), each sample has (channels, values): (19, 180000) !\n",
      "[INFO] S.shape: (14,), each sample has (channels, values): (19, 180000) !\n",
      "[INFO] S.shape: (14,)\n",
      "[INFO] CHAN.shape: (1, 19)\n",
      "[INFO] Fs.shape: (1, 1)\n",
      "(532, 15000)\n",
      "(532, 1)\n",
      "[INFO] Scaling the inputs\n",
      "[INFO] x_train.shape: (850, 150, 100, 1), y_train.shape: (850, 1)\n",
      "[INFO] x_test.shape: (214, 150, 100, 1), y_test.shape: (214, 1)\n",
      "[INFO] Started the training for model: conv_lstm ...\n",
      "[INFO] ./checkpoints/conv_lstm/0 exists, removing it ...\n",
      "[INFO] message: Successfully removed and created dir: ./checkpoints/conv_lstm/0 --> file: C:\\Users\\pooya\\miniconda3\\envs\\tf2_gpu\\lib\\site-packages\\deep_utils\\utils\\dir_utils\\dir_utils.py -- line: 280 -- func: remove_create\n",
      "[INFO] Saving params!\n",
      "[INFO] Params are successfully saved!\n",
      "[INFO] Training with the following arguments {'model_name': 'conv_lstm', 'epochs': 200, 'seed': 1234, 'dir_name': '0', 'checkpoints': './checkpoints', 'batch_size': 4, 'early_stopping': 100, 'reduce_lr': 50, 'data_path': 'data/DATA.mat'}\n",
      "Epoch 1/200\n",
      "213/213 [==============================] - ETA: 0s - loss: 0.6415 - accuracy: 0.6176"
     ]
    },
    {
     "name": "stderr",
     "output_type": "stream",
     "text": [
      "WARNING:absl:Found untraced functions such as _jit_compiled_convolution_op, _jit_compiled_convolution_op, _jit_compiled_convolution_op, lstm_cell_layer_call_fn, lstm_cell_layer_call_and_return_conditional_losses while saving (showing 5 of 5). These functions will not be directly callable after loading.\n"
     ]
    },
    {
     "name": "stdout",
     "output_type": "stream",
     "text": [
      "INFO:tensorflow:Assets written to: ./checkpoints/conv_lstm/0\\model_best\\assets\n"
     ]
    },
    {
     "name": "stderr",
     "output_type": "stream",
     "text": [
      "INFO:tensorflow:Assets written to: ./checkpoints/conv_lstm/0\\model_best\\assets\n"
     ]
    },
    {
     "name": "stdout",
     "output_type": "stream",
     "text": [
      "213/213 [==============================] - 13s 26ms/step - loss: 0.6415 - accuracy: 0.6176 - val_loss: 0.5535 - val_accuracy: 0.6822 - lr: 0.0010\n",
      "Epoch 2/200\n",
      "213/213 [==============================] - ETA: 0s - loss: 0.5695 - accuracy: 0.7153"
     ]
    },
    {
     "name": "stderr",
     "output_type": "stream",
     "text": [
      "WARNING:absl:Found untraced functions such as _jit_compiled_convolution_op, _jit_compiled_convolution_op, _jit_compiled_convolution_op, lstm_cell_layer_call_fn, lstm_cell_layer_call_and_return_conditional_losses while saving (showing 5 of 5). These functions will not be directly callable after loading.\n"
     ]
    },
    {
     "name": "stdout",
     "output_type": "stream",
     "text": [
      "INFO:tensorflow:Assets written to: ./checkpoints/conv_lstm/0\\model_best\\assets\n"
     ]
    },
    {
     "name": "stderr",
     "output_type": "stream",
     "text": [
      "INFO:tensorflow:Assets written to: ./checkpoints/conv_lstm/0\\model_best\\assets\n"
     ]
    },
    {
     "name": "stdout",
     "output_type": "stream",
     "text": [
      "213/213 [==============================] - 5s 23ms/step - loss: 0.5695 - accuracy: 0.7153 - val_loss: 0.4531 - val_accuracy: 0.8131 - lr: 0.0010\n",
      "Epoch 3/200\n",
      "210/213 [============================>.] - ETA: 0s - loss: 0.4113 - accuracy: 0.8214"
     ]
    },
    {
     "name": "stderr",
     "output_type": "stream",
     "text": [
      "WARNING:absl:Found untraced functions such as _jit_compiled_convolution_op, _jit_compiled_convolution_op, _jit_compiled_convolution_op, lstm_cell_layer_call_fn, lstm_cell_layer_call_and_return_conditional_losses while saving (showing 5 of 5). These functions will not be directly callable after loading.\n"
     ]
    },
    {
     "name": "stdout",
     "output_type": "stream",
     "text": [
      "INFO:tensorflow:Assets written to: ./checkpoints/conv_lstm/0\\model_best\\assets\n"
     ]
    },
    {
     "name": "stderr",
     "output_type": "stream",
     "text": [
      "INFO:tensorflow:Assets written to: ./checkpoints/conv_lstm/0\\model_best\\assets\n"
     ]
    },
    {
     "name": "stdout",
     "output_type": "stream",
     "text": [
      "213/213 [==============================] - 5s 23ms/step - loss: 0.4136 - accuracy: 0.8188 - val_loss: 0.4262 - val_accuracy: 0.8224 - lr: 0.0010\n",
      "Epoch 4/200\n",
      "208/213 [============================>.] - ETA: 0s - loss: 0.3987 - accuracy: 0.8606"
     ]
    },
    {
     "name": "stderr",
     "output_type": "stream",
     "text": [
      "WARNING:absl:Found untraced functions such as _jit_compiled_convolution_op, _jit_compiled_convolution_op, _jit_compiled_convolution_op, lstm_cell_layer_call_fn, lstm_cell_layer_call_and_return_conditional_losses while saving (showing 5 of 5). These functions will not be directly callable after loading.\n"
     ]
    },
    {
     "name": "stdout",
     "output_type": "stream",
     "text": [
      "INFO:tensorflow:Assets written to: ./checkpoints/conv_lstm/0\\model_best\\assets\n"
     ]
    },
    {
     "name": "stderr",
     "output_type": "stream",
     "text": [
      "INFO:tensorflow:Assets written to: ./checkpoints/conv_lstm/0\\model_best\\assets\n"
     ]
    },
    {
     "name": "stdout",
     "output_type": "stream",
     "text": [
      "213/213 [==============================] - 5s 22ms/step - loss: 0.3971 - accuracy: 0.8612 - val_loss: 0.3214 - val_accuracy: 0.8692 - lr: 0.0010\n",
      "Epoch 5/200\n",
      "212/213 [============================>.] - ETA: 0s - loss: 0.2725 - accuracy: 0.8797"
     ]
    },
    {
     "name": "stderr",
     "output_type": "stream",
     "text": [
      "WARNING:absl:Found untraced functions such as _jit_compiled_convolution_op, _jit_compiled_convolution_op, _jit_compiled_convolution_op, lstm_cell_layer_call_fn, lstm_cell_layer_call_and_return_conditional_losses while saving (showing 5 of 5). These functions will not be directly callable after loading.\n"
     ]
    },
    {
     "name": "stdout",
     "output_type": "stream",
     "text": [
      "INFO:tensorflow:Assets written to: ./checkpoints/conv_lstm/0\\model_best\\assets\n"
     ]
    },
    {
     "name": "stderr",
     "output_type": "stream",
     "text": [
      "INFO:tensorflow:Assets written to: ./checkpoints/conv_lstm/0\\model_best\\assets\n"
     ]
    },
    {
     "name": "stdout",
     "output_type": "stream",
     "text": [
      "213/213 [==============================] - 5s 23ms/step - loss: 0.2735 - accuracy: 0.8788 - val_loss: 0.2803 - val_accuracy: 0.8598 - lr: 0.0010\n",
      "Epoch 6/200\n",
      "213/213 [==============================] - 3s 12ms/step - loss: 0.1893 - accuracy: 0.9294 - val_loss: 0.3958 - val_accuracy: 0.8692 - lr: 0.0010\n",
      "Epoch 7/200\n",
      "210/213 [============================>.] - ETA: 0s - loss: 0.1629 - accuracy: 0.9345"
     ]
    },
    {
     "name": "stderr",
     "output_type": "stream",
     "text": [
      "WARNING:absl:Found untraced functions such as _jit_compiled_convolution_op, _jit_compiled_convolution_op, _jit_compiled_convolution_op, lstm_cell_layer_call_fn, lstm_cell_layer_call_and_return_conditional_losses while saving (showing 5 of 5). These functions will not be directly callable after loading.\n"
     ]
    },
    {
     "name": "stdout",
     "output_type": "stream",
     "text": [
      "INFO:tensorflow:Assets written to: ./checkpoints/conv_lstm/0\\model_best\\assets\n"
     ]
    },
    {
     "name": "stderr",
     "output_type": "stream",
     "text": [
      "INFO:tensorflow:Assets written to: ./checkpoints/conv_lstm/0\\model_best\\assets\n"
     ]
    },
    {
     "name": "stdout",
     "output_type": "stream",
     "text": [
      "213/213 [==============================] - 5s 22ms/step - loss: 0.1613 - accuracy: 0.9353 - val_loss: 0.1278 - val_accuracy: 0.9439 - lr: 0.0010\n",
      "Epoch 8/200\n",
      "213/213 [==============================] - 3s 12ms/step - loss: 0.0747 - accuracy: 0.9694 - val_loss: 0.1321 - val_accuracy: 0.9252 - lr: 0.0010\n",
      "Epoch 9/200\n",
      "213/213 [==============================] - 2s 11ms/step - loss: 0.0939 - accuracy: 0.9718 - val_loss: 0.2253 - val_accuracy: 0.9252 - lr: 0.0010\n",
      "Epoch 10/200\n",
      "213/213 [==============================] - 2s 11ms/step - loss: 0.0683 - accuracy: 0.9776 - val_loss: 0.3538 - val_accuracy: 0.8785 - lr: 0.0010\n",
      "Epoch 11/200\n",
      "213/213 [==============================] - 2s 12ms/step - loss: 0.0791 - accuracy: 0.9659 - val_loss: 0.1436 - val_accuracy: 0.9533 - lr: 0.0010\n",
      "Epoch 12/200\n",
      "213/213 [==============================] - 2s 12ms/step - loss: 0.0502 - accuracy: 0.9847 - val_loss: 0.1454 - val_accuracy: 0.9346 - lr: 0.0010\n",
      "Epoch 13/200\n",
      "213/213 [==============================] - 2s 11ms/step - loss: 0.0335 - accuracy: 0.9859 - val_loss: 0.2099 - val_accuracy: 0.9439 - lr: 0.0010\n",
      "Epoch 14/200\n",
      "213/213 [==============================] - 3s 12ms/step - loss: 0.0305 - accuracy: 0.9918 - val_loss: 0.2838 - val_accuracy: 0.9159 - lr: 0.0010\n",
      "Epoch 15/200\n",
      "209/213 [============================>.] - ETA: 0s - loss: 0.0474 - accuracy: 0.9797"
     ]
    },
    {
     "name": "stderr",
     "output_type": "stream",
     "text": [
      "WARNING:absl:Found untraced functions such as _jit_compiled_convolution_op, _jit_compiled_convolution_op, _jit_compiled_convolution_op, lstm_cell_layer_call_fn, lstm_cell_layer_call_and_return_conditional_losses while saving (showing 5 of 5). These functions will not be directly callable after loading.\n"
     ]
    },
    {
     "name": "stdout",
     "output_type": "stream",
     "text": [
      "INFO:tensorflow:Assets written to: ./checkpoints/conv_lstm/0\\model_best\\assets\n"
     ]
    },
    {
     "name": "stderr",
     "output_type": "stream",
     "text": [
      "INFO:tensorflow:Assets written to: ./checkpoints/conv_lstm/0\\model_best\\assets\n"
     ]
    },
    {
     "name": "stdout",
     "output_type": "stream",
     "text": [
      "213/213 [==============================] - 5s 22ms/step - loss: 0.0505 - accuracy: 0.9788 - val_loss: 0.0754 - val_accuracy: 0.9720 - lr: 0.0010\n",
      "Epoch 16/200\n",
      "213/213 [==============================] - 3s 12ms/step - loss: 0.0105 - accuracy: 0.9976 - val_loss: 0.1967 - val_accuracy: 0.9533 - lr: 0.0010\n",
      "Epoch 17/200\n",
      "213/213 [==============================] - 2s 12ms/step - loss: 0.0454 - accuracy: 0.9835 - val_loss: 0.1304 - val_accuracy: 0.9439 - lr: 0.0010\n",
      "Epoch 18/200\n",
      "213/213 [==============================] - 3s 12ms/step - loss: 0.0285 - accuracy: 0.9882 - val_loss: 0.2468 - val_accuracy: 0.9159 - lr: 0.0010\n",
      "Epoch 19/200\n",
      "213/213 [==============================] - 2s 12ms/step - loss: 0.0259 - accuracy: 0.9918 - val_loss: 0.1719 - val_accuracy: 0.9346 - lr: 0.0010\n",
      "Epoch 20/200\n",
      "213/213 [==============================] - 2s 11ms/step - loss: 0.0544 - accuracy: 0.9776 - val_loss: 0.1520 - val_accuracy: 0.9626 - lr: 0.0010\n",
      "Epoch 21/200\n",
      "211/213 [============================>.] - ETA: 0s - loss: 0.0621 - accuracy: 0.9822"
     ]
    },
    {
     "name": "stderr",
     "output_type": "stream",
     "text": [
      "WARNING:absl:Found untraced functions such as _jit_compiled_convolution_op, _jit_compiled_convolution_op, _jit_compiled_convolution_op, lstm_cell_layer_call_fn, lstm_cell_layer_call_and_return_conditional_losses while saving (showing 5 of 5). These functions will not be directly callable after loading.\n"
     ]
    },
    {
     "name": "stdout",
     "output_type": "stream",
     "text": [
      "INFO:tensorflow:Assets written to: ./checkpoints/conv_lstm/0\\model_best\\assets\n"
     ]
    },
    {
     "name": "stderr",
     "output_type": "stream",
     "text": [
      "INFO:tensorflow:Assets written to: ./checkpoints/conv_lstm/0\\model_best\\assets\n"
     ]
    },
    {
     "name": "stdout",
     "output_type": "stream",
     "text": [
      "213/213 [==============================] - 5s 22ms/step - loss: 0.0662 - accuracy: 0.9812 - val_loss: 0.0692 - val_accuracy: 0.9720 - lr: 0.0010\n",
      "Epoch 22/200\n",
      "213/213 [==============================] - 3s 12ms/step - loss: 0.0290 - accuracy: 0.9918 - val_loss: 0.1658 - val_accuracy: 0.9626 - lr: 0.0010\n",
      "Epoch 23/200\n",
      "213/213 [==============================] - 2s 11ms/step - loss: 0.0292 - accuracy: 0.9871 - val_loss: 0.2837 - val_accuracy: 0.9346 - lr: 0.0010\n",
      "Epoch 24/200\n",
      "213/213 [==============================] - 2s 12ms/step - loss: 0.0308 - accuracy: 0.9918 - val_loss: 0.1300 - val_accuracy: 0.9533 - lr: 0.0010\n",
      "Epoch 25/200\n",
      "211/213 [============================>.] - ETA: 0s - loss: 0.0076 - accuracy: 0.9976"
     ]
    },
    {
     "name": "stderr",
     "output_type": "stream",
     "text": [
      "WARNING:absl:Found untraced functions such as _jit_compiled_convolution_op, _jit_compiled_convolution_op, _jit_compiled_convolution_op, lstm_cell_layer_call_fn, lstm_cell_layer_call_and_return_conditional_losses while saving (showing 5 of 5). These functions will not be directly callable after loading.\n"
     ]
    },
    {
     "name": "stdout",
     "output_type": "stream",
     "text": [
      "INFO:tensorflow:Assets written to: ./checkpoints/conv_lstm/0\\model_best\\assets\n"
     ]
    },
    {
     "name": "stderr",
     "output_type": "stream",
     "text": [
      "INFO:tensorflow:Assets written to: ./checkpoints/conv_lstm/0\\model_best\\assets\n"
     ]
    },
    {
     "name": "stdout",
     "output_type": "stream",
     "text": [
      "213/213 [==============================] - 5s 22ms/step - loss: 0.0075 - accuracy: 0.9976 - val_loss: 0.0656 - val_accuracy: 0.9720 - lr: 0.0010\n",
      "Epoch 26/200\n",
      "213/213 [==============================] - 3s 12ms/step - loss: 0.0061 - accuracy: 0.9988 - val_loss: 0.1046 - val_accuracy: 0.9720 - lr: 0.0010\n",
      "Epoch 27/200\n",
      "213/213 [==============================] - 2s 12ms/step - loss: 0.0288 - accuracy: 0.9929 - val_loss: 0.2362 - val_accuracy: 0.9439 - lr: 0.0010\n",
      "Epoch 28/200\n",
      "213/213 [==============================] - 2s 12ms/step - loss: 0.0293 - accuracy: 0.9894 - val_loss: 0.1852 - val_accuracy: 0.9065 - lr: 0.0010\n",
      "Epoch 29/200\n",
      "213/213 [==============================] - 2s 11ms/step - loss: 0.0351 - accuracy: 0.9859 - val_loss: 0.2498 - val_accuracy: 0.9439 - lr: 0.0010\n",
      "Epoch 30/200\n",
      "213/213 [==============================] - 2s 12ms/step - loss: 0.0121 - accuracy: 0.9965 - val_loss: 0.1966 - val_accuracy: 0.9626 - lr: 0.0010\n",
      "Epoch 31/200\n",
      "213/213 [==============================] - 2s 11ms/step - loss: 0.0014 - accuracy: 1.0000 - val_loss: 0.2159 - val_accuracy: 0.9533 - lr: 0.0010\n",
      "Epoch 32/200\n",
      "213/213 [==============================] - 2s 12ms/step - loss: 0.0013 - accuracy: 1.0000 - val_loss: 0.2642 - val_accuracy: 0.9533 - lr: 0.0010\n",
      "Epoch 33/200\n",
      "213/213 [==============================] - 2s 12ms/step - loss: 0.0239 - accuracy: 0.9929 - val_loss: 0.0877 - val_accuracy: 0.9720 - lr: 0.0010\n",
      "Epoch 34/200\n",
      "213/213 [==============================] - 3s 12ms/step - loss: 0.0248 - accuracy: 0.9929 - val_loss: 0.1528 - val_accuracy: 0.9533 - lr: 0.0010\n",
      "Epoch 35/200\n",
      "213/213 [==============================] - 2s 12ms/step - loss: 0.0112 - accuracy: 0.9976 - val_loss: 0.4892 - val_accuracy: 0.8972 - lr: 0.0010\n",
      "Epoch 36/200\n",
      "213/213 [==============================] - 2s 12ms/step - loss: 0.0208 - accuracy: 0.9906 - val_loss: 0.1842 - val_accuracy: 0.9626 - lr: 0.0010\n",
      "Epoch 37/200\n",
      "213/213 [==============================] - 3s 12ms/step - loss: 0.0043 - accuracy: 0.9976 - val_loss: 0.3487 - val_accuracy: 0.9439 - lr: 0.0010\n",
      "Epoch 38/200\n",
      "213/213 [==============================] - 3s 12ms/step - loss: 0.0495 - accuracy: 0.9835 - val_loss: 0.1507 - val_accuracy: 0.9533 - lr: 0.0010\n",
      "Epoch 39/200\n",
      "213/213 [==============================] - 3s 12ms/step - loss: 0.0102 - accuracy: 0.9976 - val_loss: 0.3391 - val_accuracy: 0.9065 - lr: 0.0010\n",
      "Epoch 40/200\n",
      "213/213 [==============================] - 3s 12ms/step - loss: 0.0047 - accuracy: 0.9988 - val_loss: 0.1274 - val_accuracy: 0.9720 - lr: 0.0010\n",
      "Epoch 41/200\n",
      "213/213 [==============================] - 2s 12ms/step - loss: 0.0194 - accuracy: 0.9918 - val_loss: 0.2530 - val_accuracy: 0.9346 - lr: 0.0010\n",
      "Epoch 42/200\n",
      "213/213 [==============================] - 3s 12ms/step - loss: 0.0193 - accuracy: 0.9906 - val_loss: 0.1865 - val_accuracy: 0.9626 - lr: 0.0010\n",
      "Epoch 43/200\n",
      "213/213 [==============================] - 2s 12ms/step - loss: 0.0018 - accuracy: 1.0000 - val_loss: 0.2442 - val_accuracy: 0.9626 - lr: 0.0010\n",
      "Epoch 44/200\n",
      "213/213 [==============================] - 3s 12ms/step - loss: 0.0036 - accuracy: 0.9976 - val_loss: 0.3550 - val_accuracy: 0.9159 - lr: 0.0010\n",
      "Epoch 45/200\n",
      "213/213 [==============================] - 2s 12ms/step - loss: 0.0019 - accuracy: 1.0000 - val_loss: 0.2653 - val_accuracy: 0.9533 - lr: 0.0010\n",
      "Epoch 46/200\n",
      "213/213 [==============================] - 2s 12ms/step - loss: 0.0211 - accuracy: 0.9929 - val_loss: 0.1919 - val_accuracy: 0.9533 - lr: 0.0010\n",
      "Epoch 47/200\n",
      "213/213 [==============================] - 2s 12ms/step - loss: 0.0275 - accuracy: 0.9953 - val_loss: 0.1461 - val_accuracy: 0.9533 - lr: 0.0010\n",
      "Epoch 48/200\n",
      "213/213 [==============================] - 2s 12ms/step - loss: 0.0032 - accuracy: 0.9988 - val_loss: 0.3162 - val_accuracy: 0.9626 - lr: 0.0010\n",
      "Epoch 49/200\n",
      "213/213 [==============================] - 3s 12ms/step - loss: 0.0212 - accuracy: 0.9929 - val_loss: 0.3474 - val_accuracy: 0.9533 - lr: 0.0010\n",
      "Epoch 50/200\n",
      "213/213 [==============================] - 2s 12ms/step - loss: 0.0125 - accuracy: 0.9976 - val_loss: 0.3479 - val_accuracy: 0.9346 - lr: 0.0010\n",
      "Epoch 51/200\n",
      "213/213 [==============================] - 3s 12ms/step - loss: 0.0142 - accuracy: 0.9941 - val_loss: 0.2639 - val_accuracy: 0.9439 - lr: 0.0010\n",
      "Epoch 52/200\n",
      "213/213 [==============================] - 3s 12ms/step - loss: 0.0115 - accuracy: 0.9965 - val_loss: 0.1304 - val_accuracy: 0.9439 - lr: 0.0010\n",
      "Epoch 53/200\n",
      "213/213 [==============================] - 2s 12ms/step - loss: 0.0081 - accuracy: 0.9976 - val_loss: 0.2236 - val_accuracy: 0.9533 - lr: 0.0010\n",
      "Epoch 54/200\n",
      "213/213 [==============================] - 3s 12ms/step - loss: 0.0143 - accuracy: 0.9976 - val_loss: 0.1732 - val_accuracy: 0.9533 - lr: 0.0010\n",
      "Epoch 55/200\n",
      "213/213 [==============================] - 2s 12ms/step - loss: 0.0062 - accuracy: 0.9976 - val_loss: 0.2225 - val_accuracy: 0.9439 - lr: 0.0010\n",
      "Epoch 56/200\n",
      "213/213 [==============================] - 3s 12ms/step - loss: 0.0273 - accuracy: 0.9918 - val_loss: 0.1355 - val_accuracy: 0.9252 - lr: 0.0010\n",
      "Epoch 57/200\n",
      "213/213 [==============================] - 3s 13ms/step - loss: 0.0013 - accuracy: 1.0000 - val_loss: 0.2633 - val_accuracy: 0.9346 - lr: 0.0010\n",
      "Epoch 58/200\n",
      "213/213 [==============================] - 3s 13ms/step - loss: 0.0024 - accuracy: 1.0000 - val_loss: 0.1823 - val_accuracy: 0.9439 - lr: 0.0010\n",
      "Epoch 59/200\n",
      "213/213 [==============================] - 3s 13ms/step - loss: 0.0084 - accuracy: 0.9976 - val_loss: 0.2749 - val_accuracy: 0.9439 - lr: 0.0010\n",
      "Epoch 60/200\n",
      "213/213 [==============================] - 3s 12ms/step - loss: 0.0215 - accuracy: 0.9941 - val_loss: 0.1701 - val_accuracy: 0.9533 - lr: 0.0010\n",
      "Epoch 61/200\n",
      "213/213 [==============================] - 3s 13ms/step - loss: 0.0128 - accuracy: 0.9965 - val_loss: 0.2061 - val_accuracy: 0.9626 - lr: 0.0010\n",
      "Epoch 62/200\n",
      "213/213 [==============================] - 3s 12ms/step - loss: 0.0015 - accuracy: 1.0000 - val_loss: 0.3915 - val_accuracy: 0.9533 - lr: 0.0010\n",
      "Epoch 63/200\n",
      "213/213 [==============================] - 3s 13ms/step - loss: 3.0000e-04 - accuracy: 1.0000 - val_loss: 0.4176 - val_accuracy: 0.9439 - lr: 0.0010\n",
      "Epoch 64/200\n",
      "213/213 [==============================] - 3s 13ms/step - loss: 0.0164 - accuracy: 0.9965 - val_loss: 0.4223 - val_accuracy: 0.8972 - lr: 0.0010\n",
      "Epoch 65/200\n",
      "213/213 [==============================] - 3s 13ms/step - loss: 0.0046 - accuracy: 0.9988 - val_loss: 0.2666 - val_accuracy: 0.9439 - lr: 0.0010\n",
      "Epoch 66/200\n",
      "213/213 [==============================] - 3s 13ms/step - loss: 3.8221e-04 - accuracy: 1.0000 - val_loss: 0.2495 - val_accuracy: 0.9626 - lr: 0.0010\n",
      "Epoch 67/200\n",
      "213/213 [==============================] - 3s 13ms/step - loss: 8.3897e-04 - accuracy: 1.0000 - val_loss: 0.2205 - val_accuracy: 0.9626 - lr: 0.0010\n",
      "Epoch 68/200\n",
      "213/213 [==============================] - 3s 13ms/step - loss: 1.9865e-04 - accuracy: 1.0000 - val_loss: 0.2393 - val_accuracy: 0.9626 - lr: 0.0010\n",
      "Epoch 69/200\n",
      "213/213 [==============================] - 3s 13ms/step - loss: 0.0131 - accuracy: 0.9965 - val_loss: 0.1789 - val_accuracy: 0.9720 - lr: 0.0010\n",
      "Epoch 70/200\n",
      "213/213 [==============================] - 3s 13ms/step - loss: 0.0739 - accuracy: 0.9753 - val_loss: 0.0796 - val_accuracy: 0.9720 - lr: 0.0010\n",
      "Epoch 71/200\n",
      "213/213 [==============================] - 3s 12ms/step - loss: 0.0355 - accuracy: 0.9906 - val_loss: 0.0757 - val_accuracy: 0.9626 - lr: 0.0010\n",
      "Epoch 72/200\n",
      "213/213 [==============================] - 3s 12ms/step - loss: 0.0082 - accuracy: 0.9976 - val_loss: 0.1025 - val_accuracy: 0.9626 - lr: 0.0010\n",
      "Epoch 73/200\n",
      "213/213 [==============================] - 3s 13ms/step - loss: 0.0126 - accuracy: 0.9953 - val_loss: 0.1017 - val_accuracy: 0.9720 - lr: 0.0010\n",
      "Epoch 74/200\n",
      "210/213 [============================>.] - ETA: 0s - loss: 0.0051 - accuracy: 0.9988"
     ]
    },
    {
     "name": "stderr",
     "output_type": "stream",
     "text": [
      "WARNING:absl:Found untraced functions such as _jit_compiled_convolution_op, _jit_compiled_convolution_op, _jit_compiled_convolution_op, lstm_cell_layer_call_fn, lstm_cell_layer_call_and_return_conditional_losses while saving (showing 5 of 5). These functions will not be directly callable after loading.\n"
     ]
    },
    {
     "name": "stdout",
     "output_type": "stream",
     "text": [
      "INFO:tensorflow:Assets written to: ./checkpoints/conv_lstm/0\\model_best\\assets\n"
     ]
    },
    {
     "name": "stderr",
     "output_type": "stream",
     "text": [
      "INFO:tensorflow:Assets written to: ./checkpoints/conv_lstm/0\\model_best\\assets\n"
     ]
    },
    {
     "name": "stdout",
     "output_type": "stream",
     "text": [
      "213/213 [==============================] - 5s 23ms/step - loss: 0.0050 - accuracy: 0.9988 - val_loss: 0.0327 - val_accuracy: 0.9813 - lr: 0.0010\n",
      "Epoch 75/200\n",
      "213/213 [==============================] - 3s 12ms/step - loss: 0.0062 - accuracy: 0.9965 - val_loss: 0.1579 - val_accuracy: 0.9439 - lr: 0.0010\n",
      "Epoch 76/200\n",
      "213/213 [==============================] - 2s 11ms/step - loss: 0.0044 - accuracy: 0.9988 - val_loss: 0.1049 - val_accuracy: 0.9626 - lr: 0.0010\n",
      "Epoch 77/200\n",
      "213/213 [==============================] - 3s 12ms/step - loss: 0.0070 - accuracy: 0.9976 - val_loss: 0.1147 - val_accuracy: 0.9626 - lr: 0.0010\n",
      "Epoch 78/200\n",
      "213/213 [==============================] - 3s 12ms/step - loss: 0.0060 - accuracy: 0.9965 - val_loss: 0.1947 - val_accuracy: 0.9533 - lr: 0.0010\n",
      "Epoch 79/200\n",
      "213/213 [==============================] - 3s 13ms/step - loss: 0.0039 - accuracy: 0.9976 - val_loss: 0.1185 - val_accuracy: 0.9720 - lr: 0.0010\n",
      "Epoch 80/200\n",
      "213/213 [==============================] - 3s 13ms/step - loss: 6.0232e-04 - accuracy: 1.0000 - val_loss: 0.1354 - val_accuracy: 0.9626 - lr: 0.0010\n",
      "Epoch 81/200\n",
      "213/213 [==============================] - 3s 13ms/step - loss: 0.0081 - accuracy: 0.9976 - val_loss: 0.1574 - val_accuracy: 0.9720 - lr: 0.0010\n",
      "Epoch 82/200\n",
      "213/213 [==============================] - 3s 12ms/step - loss: 0.0040 - accuracy: 0.9976 - val_loss: 0.1951 - val_accuracy: 0.9720 - lr: 0.0010\n",
      "Epoch 83/200\n",
      "213/213 [==============================] - 3s 13ms/step - loss: 0.0145 - accuracy: 0.9976 - val_loss: 0.0937 - val_accuracy: 0.9813 - lr: 0.0010\n",
      "Epoch 84/200\n",
      "213/213 [==============================] - 3s 13ms/step - loss: 0.0022 - accuracy: 1.0000 - val_loss: 0.2497 - val_accuracy: 0.9626 - lr: 0.0010\n",
      "Epoch 85/200\n",
      "213/213 [==============================] - 3s 12ms/step - loss: 5.1071e-04 - accuracy: 1.0000 - val_loss: 0.2765 - val_accuracy: 0.9626 - lr: 0.0010\n",
      "Epoch 86/200\n",
      "209/213 [============================>.] - ETA: 0s - loss: 0.0059 - accuracy: 0.9976"
     ]
    },
    {
     "name": "stderr",
     "output_type": "stream",
     "text": [
      "WARNING:absl:Found untraced functions such as _jit_compiled_convolution_op, _jit_compiled_convolution_op, _jit_compiled_convolution_op, lstm_cell_layer_call_fn, lstm_cell_layer_call_and_return_conditional_losses while saving (showing 5 of 5). These functions will not be directly callable after loading.\n"
     ]
    },
    {
     "name": "stdout",
     "output_type": "stream",
     "text": [
      "INFO:tensorflow:Assets written to: ./checkpoints/conv_lstm/0\\model_best\\assets\n"
     ]
    },
    {
     "name": "stderr",
     "output_type": "stream",
     "text": [
      "INFO:tensorflow:Assets written to: ./checkpoints/conv_lstm/0\\model_best\\assets\n"
     ]
    },
    {
     "name": "stdout",
     "output_type": "stream",
     "text": [
      "213/213 [==============================] - 5s 22ms/step - loss: 0.0058 - accuracy: 0.9976 - val_loss: 0.0311 - val_accuracy: 0.9907 - lr: 0.0010\n",
      "Epoch 87/200\n",
      "213/213 [==============================] - 3s 14ms/step - loss: 3.9800e-04 - accuracy: 1.0000 - val_loss: 0.0971 - val_accuracy: 0.9813 - lr: 0.0010\n",
      "Epoch 88/200\n",
      "213/213 [==============================] - 3s 12ms/step - loss: 0.0126 - accuracy: 0.9953 - val_loss: 0.2396 - val_accuracy: 0.9720 - lr: 0.0010\n",
      "Epoch 89/200\n",
      "213/213 [==============================] - 2s 12ms/step - loss: 0.0062 - accuracy: 0.9988 - val_loss: 0.1774 - val_accuracy: 0.9626 - lr: 0.0010\n",
      "Epoch 90/200\n",
      "213/213 [==============================] - 3s 12ms/step - loss: 4.5466e-04 - accuracy: 1.0000 - val_loss: 0.2181 - val_accuracy: 0.9533 - lr: 0.0010\n",
      "Epoch 91/200\n",
      "213/213 [==============================] - 3s 12ms/step - loss: 9.2350e-04 - accuracy: 1.0000 - val_loss: 0.2704 - val_accuracy: 0.9533 - lr: 0.0010\n",
      "Epoch 92/200\n",
      "213/213 [==============================] - 2s 11ms/step - loss: 0.0164 - accuracy: 0.9965 - val_loss: 0.2807 - val_accuracy: 0.9252 - lr: 0.0010\n",
      "Epoch 93/200\n",
      "213/213 [==============================] - 2s 12ms/step - loss: 0.0205 - accuracy: 0.9929 - val_loss: 0.3123 - val_accuracy: 0.9533 - lr: 0.0010\n",
      "Epoch 94/200\n",
      "213/213 [==============================] - 2s 12ms/step - loss: 0.0268 - accuracy: 0.9894 - val_loss: 0.1794 - val_accuracy: 0.9626 - lr: 0.0010\n",
      "Epoch 95/200\n",
      "213/213 [==============================] - 3s 12ms/step - loss: 0.0361 - accuracy: 0.9918 - val_loss: 0.1406 - val_accuracy: 0.9720 - lr: 0.0010\n",
      "Epoch 96/200\n",
      "213/213 [==============================] - 2s 12ms/step - loss: 0.0016 - accuracy: 1.0000 - val_loss: 0.1681 - val_accuracy: 0.9533 - lr: 0.0010\n",
      "Epoch 97/200\n",
      "213/213 [==============================] - 3s 12ms/step - loss: 7.2623e-04 - accuracy: 1.0000 - val_loss: 0.1670 - val_accuracy: 0.9626 - lr: 0.0010\n",
      "Epoch 98/200\n",
      "213/213 [==============================] - 3s 12ms/step - loss: 0.0017 - accuracy: 1.0000 - val_loss: 0.1568 - val_accuracy: 0.9533 - lr: 0.0010\n",
      "Epoch 99/200\n",
      "213/213 [==============================] - 2s 12ms/step - loss: 0.0181 - accuracy: 0.9988 - val_loss: 0.1109 - val_accuracy: 0.9626 - lr: 0.0010\n",
      "Epoch 100/200\n",
      "213/213 [==============================] - 2s 12ms/step - loss: 0.0027 - accuracy: 1.0000 - val_loss: 0.1490 - val_accuracy: 0.9626 - lr: 0.0010\n",
      "Epoch 101/200\n",
      "213/213 [==============================] - 3s 12ms/step - loss: 0.0055 - accuracy: 0.9988 - val_loss: 0.1960 - val_accuracy: 0.9533 - lr: 0.0010\n",
      "Epoch 102/200\n",
      "213/213 [==============================] - 3s 12ms/step - loss: 7.7272e-05 - accuracy: 1.0000 - val_loss: 0.2051 - val_accuracy: 0.9533 - lr: 0.0010\n",
      "Epoch 103/200\n",
      "213/213 [==============================] - 2s 11ms/step - loss: 0.0012 - accuracy: 1.0000 - val_loss: 0.2619 - val_accuracy: 0.9626 - lr: 0.0010\n",
      "Epoch 104/200\n",
      "213/213 [==============================] - 2s 12ms/step - loss: 0.0089 - accuracy: 0.9965 - val_loss: 0.2269 - val_accuracy: 0.9626 - lr: 0.0010\n",
      "Epoch 105/200\n",
      "213/213 [==============================] - 2s 12ms/step - loss: 0.0086 - accuracy: 0.9988 - val_loss: 0.4433 - val_accuracy: 0.9533 - lr: 0.0010\n",
      "Epoch 106/200\n",
      "213/213 [==============================] - 3s 12ms/step - loss: 0.0096 - accuracy: 0.9953 - val_loss: 0.2146 - val_accuracy: 0.9626 - lr: 0.0010\n",
      "Epoch 107/200\n",
      "213/213 [==============================] - 2s 12ms/step - loss: 0.0036 - accuracy: 0.9976 - val_loss: 0.4319 - val_accuracy: 0.9533 - lr: 0.0010\n",
      "Epoch 108/200\n",
      "213/213 [==============================] - 2s 11ms/step - loss: 0.0096 - accuracy: 0.9965 - val_loss: 0.2898 - val_accuracy: 0.9626 - lr: 0.0010\n",
      "Epoch 109/200\n",
      "213/213 [==============================] - 2s 12ms/step - loss: 0.0119 - accuracy: 0.9976 - val_loss: 0.4020 - val_accuracy: 0.9439 - lr: 0.0010\n",
      "Epoch 110/200\n",
      "213/213 [==============================] - 2s 11ms/step - loss: 0.0021 - accuracy: 0.9988 - val_loss: 0.3573 - val_accuracy: 0.9439 - lr: 0.0010\n",
      "Epoch 111/200\n",
      "213/213 [==============================] - 2s 12ms/step - loss: 0.0053 - accuracy: 0.9988 - val_loss: 0.2210 - val_accuracy: 0.9626 - lr: 0.0010\n",
      "Epoch 112/200\n",
      "213/213 [==============================] - 2s 11ms/step - loss: 1.9852e-04 - accuracy: 1.0000 - val_loss: 0.2157 - val_accuracy: 0.9720 - lr: 0.0010\n",
      "Epoch 113/200\n",
      "213/213 [==============================] - 2s 12ms/step - loss: 0.0261 - accuracy: 0.9941 - val_loss: 0.2312 - val_accuracy: 0.9720 - lr: 0.0010\n",
      "Epoch 114/200\n",
      "213/213 [==============================] - 2s 11ms/step - loss: 0.0046 - accuracy: 0.9976 - val_loss: 0.3309 - val_accuracy: 0.9439 - lr: 0.0010\n",
      "Epoch 115/200\n",
      "213/213 [==============================] - 2s 12ms/step - loss: 0.0017 - accuracy: 1.0000 - val_loss: 0.3480 - val_accuracy: 0.9626 - lr: 0.0010\n",
      "Epoch 116/200\n",
      "213/213 [==============================] - 3s 12ms/step - loss: 0.0025 - accuracy: 0.9988 - val_loss: 0.2802 - val_accuracy: 0.9626 - lr: 0.0010\n",
      "Epoch 117/200\n",
      "213/213 [==============================] - 2s 12ms/step - loss: 0.0157 - accuracy: 0.9965 - val_loss: 0.3643 - val_accuracy: 0.9159 - lr: 0.0010\n",
      "Epoch 118/200\n",
      "213/213 [==============================] - 2s 12ms/step - loss: 0.0207 - accuracy: 0.9953 - val_loss: 0.0553 - val_accuracy: 0.9720 - lr: 0.0010\n",
      "Epoch 119/200\n",
      "213/213 [==============================] - 2s 12ms/step - loss: 0.0057 - accuracy: 0.9988 - val_loss: 0.1063 - val_accuracy: 0.9813 - lr: 0.0010\n",
      "Epoch 120/200\n",
      "213/213 [==============================] - 3s 12ms/step - loss: 0.0108 - accuracy: 0.9965 - val_loss: 0.1382 - val_accuracy: 0.9720 - lr: 0.0010\n",
      "Epoch 121/200\n",
      "213/213 [==============================] - 3s 12ms/step - loss: 8.2420e-04 - accuracy: 1.0000 - val_loss: 0.0919 - val_accuracy: 0.9720 - lr: 0.0010\n",
      "Epoch 122/200\n",
      "213/213 [==============================] - 2s 12ms/step - loss: 0.0113 - accuracy: 0.9976 - val_loss: 0.1968 - val_accuracy: 0.9346 - lr: 0.0010\n",
      "Epoch 123/200\n",
      "213/213 [==============================] - 3s 12ms/step - loss: 9.0736e-04 - accuracy: 1.0000 - val_loss: 0.2042 - val_accuracy: 0.9626 - lr: 0.0010\n",
      "Epoch 124/200\n",
      "213/213 [==============================] - 2s 12ms/step - loss: 0.0026 - accuracy: 0.9988 - val_loss: 0.1730 - val_accuracy: 0.9626 - lr: 0.0010\n",
      "Epoch 125/200\n",
      "213/213 [==============================] - 3s 12ms/step - loss: 0.0046 - accuracy: 0.9976 - val_loss: 0.2419 - val_accuracy: 0.9626 - lr: 0.0010\n",
      "Epoch 126/200\n",
      "213/213 [==============================] - 3s 13ms/step - loss: 0.0016 - accuracy: 0.9988 - val_loss: 0.1870 - val_accuracy: 0.9626 - lr: 0.0010\n",
      "Epoch 127/200\n",
      "213/213 [==============================] - 3s 13ms/step - loss: 0.0078 - accuracy: 0.9953 - val_loss: 0.2333 - val_accuracy: 0.9720 - lr: 0.0010\n",
      "Epoch 128/200\n",
      "213/213 [==============================] - 3s 12ms/step - loss: 3.0423e-04 - accuracy: 1.0000 - val_loss: 0.2320 - val_accuracy: 0.9533 - lr: 0.0010\n",
      "Epoch 129/200\n",
      "213/213 [==============================] - 3s 12ms/step - loss: 5.9150e-04 - accuracy: 1.0000 - val_loss: 0.2254 - val_accuracy: 0.9626 - lr: 0.0010\n",
      "Epoch 130/200\n",
      "213/213 [==============================] - 3s 13ms/step - loss: 4.1686e-04 - accuracy: 1.0000 - val_loss: 0.2337 - val_accuracy: 0.9626 - lr: 0.0010\n",
      "Epoch 131/200\n",
      "213/213 [==============================] - 3s 12ms/step - loss: 1.7269e-04 - accuracy: 1.0000 - val_loss: 0.2159 - val_accuracy: 0.9626 - lr: 0.0010\n",
      "Epoch 132/200\n",
      "213/213 [==============================] - 3s 12ms/step - loss: 2.7258e-05 - accuracy: 1.0000 - val_loss: 0.2160 - val_accuracy: 0.9626 - lr: 0.0010\n",
      "Epoch 133/200\n",
      "213/213 [==============================] - 3s 13ms/step - loss: 1.5272e-05 - accuracy: 1.0000 - val_loss: 0.2168 - val_accuracy: 0.9626 - lr: 0.0010\n",
      "Epoch 134/200\n",
      "213/213 [==============================] - 3s 12ms/step - loss: 0.0180 - accuracy: 0.9941 - val_loss: 0.2702 - val_accuracy: 0.9439 - lr: 0.0010\n",
      "Epoch 135/200\n",
      "213/213 [==============================] - 3s 13ms/step - loss: 0.0190 - accuracy: 0.9953 - val_loss: 0.1378 - val_accuracy: 0.9626 - lr: 0.0010\n",
      "Epoch 136/200\n",
      "212/213 [============================>.] - ETA: 0s - loss: 0.0034 - accuracy: 0.9988\n",
      "Epoch 00136: ReduceLROnPlateau reducing learning rate to 0.0005000000237487257.\n",
      "213/213 [==============================] - 3s 12ms/step - loss: 0.0034 - accuracy: 0.9988 - val_loss: 0.1167 - val_accuracy: 0.9813 - lr: 0.0010\n"
     ]
    },
    {
     "name": "stdout",
     "output_type": "stream",
     "text": [
      "Epoch 137/200\n",
      "213/213 [==============================] - 3s 12ms/step - loss: 0.0030 - accuracy: 0.9988 - val_loss: 0.1421 - val_accuracy: 0.9720 - lr: 5.0000e-04\n",
      "Epoch 138/200\n",
      "213/213 [==============================] - 2s 12ms/step - loss: 4.3886e-04 - accuracy: 1.0000 - val_loss: 0.1565 - val_accuracy: 0.9720 - lr: 5.0000e-04\n",
      "Epoch 139/200\n",
      "213/213 [==============================] - 2s 12ms/step - loss: 1.2983e-04 - accuracy: 1.0000 - val_loss: 0.1647 - val_accuracy: 0.9720 - lr: 5.0000e-04\n",
      "Epoch 140/200\n",
      "213/213 [==============================] - 3s 12ms/step - loss: 6.5054e-04 - accuracy: 1.0000 - val_loss: 0.2069 - val_accuracy: 0.9626 - lr: 5.0000e-04\n",
      "Epoch 141/200\n",
      "213/213 [==============================] - 2s 12ms/step - loss: 6.9182e-05 - accuracy: 1.0000 - val_loss: 0.2072 - val_accuracy: 0.9626 - lr: 5.0000e-04\n",
      "Epoch 142/200\n",
      "213/213 [==============================] - 2s 11ms/step - loss: 5.4869e-04 - accuracy: 1.0000 - val_loss: 0.2358 - val_accuracy: 0.9626 - lr: 5.0000e-04\n",
      "Epoch 143/200\n",
      "213/213 [==============================] - 3s 12ms/step - loss: 6.9982e-04 - accuracy: 1.0000 - val_loss: 0.2099 - val_accuracy: 0.9626 - lr: 5.0000e-04\n",
      "Epoch 144/200\n",
      "213/213 [==============================] - 2s 12ms/step - loss: 0.0032 - accuracy: 0.9988 - val_loss: 0.2785 - val_accuracy: 0.9533 - lr: 5.0000e-04\n",
      "Epoch 145/200\n",
      "213/213 [==============================] - 2s 11ms/step - loss: 8.0166e-05 - accuracy: 1.0000 - val_loss: 0.2751 - val_accuracy: 0.9533 - lr: 5.0000e-04\n",
      "Epoch 146/200\n",
      "213/213 [==============================] - 3s 12ms/step - loss: 1.5622e-04 - accuracy: 1.0000 - val_loss: 0.2544 - val_accuracy: 0.9533 - lr: 5.0000e-04\n",
      "Epoch 147/200\n",
      "213/213 [==============================] - 3s 12ms/step - loss: 0.0024 - accuracy: 0.9988 - val_loss: 0.2324 - val_accuracy: 0.9720 - lr: 5.0000e-04\n",
      "Epoch 148/200\n",
      "213/213 [==============================] - 3s 12ms/step - loss: 2.8284e-05 - accuracy: 1.0000 - val_loss: 0.2346 - val_accuracy: 0.9720 - lr: 5.0000e-04\n",
      "Epoch 149/200\n",
      "213/213 [==============================] - 2s 11ms/step - loss: 9.1810e-05 - accuracy: 1.0000 - val_loss: 0.2344 - val_accuracy: 0.9533 - lr: 5.0000e-04\n",
      "Epoch 150/200\n",
      "213/213 [==============================] - 3s 12ms/step - loss: 1.3332e-05 - accuracy: 1.0000 - val_loss: 0.2457 - val_accuracy: 0.9533 - lr: 5.0000e-04\n",
      "Epoch 151/200\n",
      "213/213 [==============================] - 2s 12ms/step - loss: 0.0114 - accuracy: 0.9953 - val_loss: 0.2546 - val_accuracy: 0.9533 - lr: 5.0000e-04\n",
      "Epoch 152/200\n",
      "213/213 [==============================] - 2s 12ms/step - loss: 0.0025 - accuracy: 0.9988 - val_loss: 0.2995 - val_accuracy: 0.9533 - lr: 5.0000e-04\n",
      "Epoch 153/200\n",
      "213/213 [==============================] - 2s 12ms/step - loss: 6.4043e-04 - accuracy: 1.0000 - val_loss: 0.2497 - val_accuracy: 0.9626 - lr: 5.0000e-04\n",
      "Epoch 154/200\n",
      "213/213 [==============================] - 2s 11ms/step - loss: 6.5036e-04 - accuracy: 1.0000 - val_loss: 0.2612 - val_accuracy: 0.9720 - lr: 5.0000e-04\n",
      "Epoch 155/200\n",
      "213/213 [==============================] - 2s 12ms/step - loss: 0.0052 - accuracy: 0.9965 - val_loss: 0.3515 - val_accuracy: 0.9720 - lr: 5.0000e-04\n",
      "Epoch 156/200\n",
      "213/213 [==============================] - 2s 11ms/step - loss: 1.0582e-04 - accuracy: 1.0000 - val_loss: 0.3514 - val_accuracy: 0.9720 - lr: 5.0000e-04\n",
      "Epoch 157/200\n",
      "213/213 [==============================] - 2s 12ms/step - loss: 0.0014 - accuracy: 0.9988 - val_loss: 0.2933 - val_accuracy: 0.9626 - lr: 5.0000e-04\n",
      "Epoch 158/200\n",
      "213/213 [==============================] - 2s 12ms/step - loss: 0.0023 - accuracy: 0.9988 - val_loss: 0.2019 - val_accuracy: 0.9626 - lr: 5.0000e-04\n",
      "Epoch 159/200\n",
      "213/213 [==============================] - 2s 12ms/step - loss: 1.2358e-04 - accuracy: 1.0000 - val_loss: 0.2047 - val_accuracy: 0.9626 - lr: 5.0000e-04\n",
      "Epoch 160/200\n",
      "213/213 [==============================] - 2s 12ms/step - loss: 4.3202e-05 - accuracy: 1.0000 - val_loss: 0.2065 - val_accuracy: 0.9626 - lr: 5.0000e-04\n",
      "Epoch 161/200\n",
      "213/213 [==============================] - 2s 11ms/step - loss: 0.0012 - accuracy: 0.9988 - val_loss: 0.2456 - val_accuracy: 0.9626 - lr: 5.0000e-04\n",
      "Epoch 162/200\n",
      "213/213 [==============================] - 2s 11ms/step - loss: 0.0016 - accuracy: 0.9988 - val_loss: 0.2214 - val_accuracy: 0.9626 - lr: 5.0000e-04\n",
      "Epoch 163/200\n",
      "213/213 [==============================] - 2s 11ms/step - loss: 0.0017 - accuracy: 0.9988 - val_loss: 0.2887 - val_accuracy: 0.9533 - lr: 5.0000e-04\n",
      "Epoch 164/200\n",
      "213/213 [==============================] - 2s 11ms/step - loss: 0.0059 - accuracy: 0.9988 - val_loss: 0.3027 - val_accuracy: 0.9439 - lr: 5.0000e-04\n",
      "Epoch 165/200\n",
      "213/213 [==============================] - 3s 12ms/step - loss: 9.7172e-04 - accuracy: 0.9988 - val_loss: 0.2745 - val_accuracy: 0.9626 - lr: 5.0000e-04\n",
      "Epoch 166/200\n",
      "213/213 [==============================] - 2s 12ms/step - loss: 3.6352e-04 - accuracy: 1.0000 - val_loss: 0.3461 - val_accuracy: 0.9626 - lr: 5.0000e-04\n",
      "Epoch 167/200\n",
      "213/213 [==============================] - 4s 20ms/step - loss: 1.5657e-05 - accuracy: 1.0000 - val_loss: 0.3497 - val_accuracy: 0.9626 - lr: 5.0000e-04\n",
      "Epoch 168/200\n",
      "213/213 [==============================] - 5s 23ms/step - loss: 0.0031 - accuracy: 0.9988 - val_loss: 0.3312 - val_accuracy: 0.9626 - lr: 5.0000e-04\n",
      "Epoch 169/200\n",
      "213/213 [==============================] - 5s 24ms/step - loss: 5.4324e-05 - accuracy: 1.0000 - val_loss: 0.3417 - val_accuracy: 0.9533 - lr: 5.0000e-04\n",
      "Epoch 170/200\n",
      "213/213 [==============================] - 5s 22ms/step - loss: 3.8085e-05 - accuracy: 1.0000 - val_loss: 0.3447 - val_accuracy: 0.9626 - lr: 5.0000e-04\n",
      "Epoch 171/200\n",
      "213/213 [==============================] - 5s 22ms/step - loss: 0.0040 - accuracy: 0.9988 - val_loss: 0.3199 - val_accuracy: 0.9626 - lr: 5.0000e-04\n",
      "Epoch 172/200\n",
      "213/213 [==============================] - 4s 21ms/step - loss: 9.1410e-04 - accuracy: 1.0000 - val_loss: 0.3753 - val_accuracy: 0.9346 - lr: 5.0000e-04\n",
      "Epoch 173/200\n",
      "213/213 [==============================] - 5s 22ms/step - loss: 3.7200e-05 - accuracy: 1.0000 - val_loss: 0.3777 - val_accuracy: 0.9346 - lr: 5.0000e-04\n",
      "Epoch 174/200\n",
      "213/213 [==============================] - 5s 22ms/step - loss: 4.8567e-04 - accuracy: 1.0000 - val_loss: 0.2954 - val_accuracy: 0.9626 - lr: 5.0000e-04\n",
      "Epoch 175/200\n",
      "213/213 [==============================] - 5s 21ms/step - loss: 0.0084 - accuracy: 0.9988 - val_loss: 0.3044 - val_accuracy: 0.9439 - lr: 5.0000e-04\n",
      "Epoch 176/200\n",
      "213/213 [==============================] - 5s 21ms/step - loss: 0.0027 - accuracy: 0.9988 - val_loss: 0.2186 - val_accuracy: 0.9720 - lr: 5.0000e-04\n",
      "Epoch 177/200\n",
      "213/213 [==============================] - 5s 21ms/step - loss: 1.9164e-05 - accuracy: 1.0000 - val_loss: 0.2199 - val_accuracy: 0.9720 - lr: 5.0000e-04\n",
      "Epoch 178/200\n",
      "213/213 [==============================] - 5s 22ms/step - loss: 8.1313e-05 - accuracy: 1.0000 - val_loss: 0.2244 - val_accuracy: 0.9720 - lr: 5.0000e-04\n",
      "Epoch 179/200\n",
      "213/213 [==============================] - 5s 21ms/step - loss: 6.6382e-05 - accuracy: 1.0000 - val_loss: 0.2229 - val_accuracy: 0.9720 - lr: 5.0000e-04\n",
      "Epoch 180/200\n",
      "213/213 [==============================] - 5s 22ms/step - loss: 2.3313e-05 - accuracy: 1.0000 - val_loss: 0.2229 - val_accuracy: 0.9720 - lr: 5.0000e-04\n",
      "Epoch 181/200\n",
      "213/213 [==============================] - 4s 21ms/step - loss: 1.6280e-04 - accuracy: 1.0000 - val_loss: 0.2176 - val_accuracy: 0.9720 - lr: 5.0000e-04\n",
      "Epoch 182/200\n",
      "213/213 [==============================] - 5s 22ms/step - loss: 8.2977e-06 - accuracy: 1.0000 - val_loss: 0.2177 - val_accuracy: 0.9720 - lr: 5.0000e-04\n",
      "Epoch 183/200\n",
      "213/213 [==============================] - 5s 22ms/step - loss: 3.7755e-05 - accuracy: 1.0000 - val_loss: 0.2204 - val_accuracy: 0.9720 - lr: 5.0000e-04\n",
      "Epoch 184/200\n",
      "213/213 [==============================] - 5s 21ms/step - loss: 8.6106e-06 - accuracy: 1.0000 - val_loss: 0.2162 - val_accuracy: 0.9720 - lr: 5.0000e-04\n",
      "Epoch 185/200\n",
      "213/213 [==============================] - 5s 22ms/step - loss: 6.3130e-06 - accuracy: 1.0000 - val_loss: 0.2178 - val_accuracy: 0.9720 - lr: 5.0000e-04\n",
      "Epoch 186/200\n"
     ]
    },
    {
     "name": "stdout",
     "output_type": "stream",
     "text": [
      "213/213 [==============================] - ETA: 0s - loss: 4.8200e-06 - accuracy: 1.0000\n",
      "Epoch 00186: ReduceLROnPlateau reducing learning rate to 0.0002500000118743628.\n",
      "213/213 [==============================] - 5s 22ms/step - loss: 4.8200e-06 - accuracy: 1.0000 - val_loss: 0.2181 - val_accuracy: 0.9720 - lr: 5.0000e-04\n",
      "Epoch 00186: early stopping\n",
      "[INFO] confusion matrix:!\n",
      "[INFO] Loading best model:\n",
      "7/7 [==============================] - 1s 29ms/step\n",
      "              precision    recall  f1-score   support\n",
      "\n",
      "         0.0       1.00      0.98      0.99       106\n",
      "         1.0       0.98      1.00      0.99       108\n",
      "\n",
      "    accuracy                           0.99       214\n",
      "   macro avg       0.99      0.99      0.99       214\n",
      "weighted avg       0.99      0.99      0.99       214\n",
      "\n",
      "[INFO] Computing Confusion matrix\n",
      "conf_matrix.jpg is successfully saved!\n",
      "-----------------------------train 0 is done! ----------------------------------\n"
     ]
    },
    {
     "data": {
      "image/png": "[encoded data removed]",
      "text/plain": [
       "<Figure size 1000x700 with 2 Axes>"
      ]
     },
     "metadata": {},
     "output_type": "display_data"
    }
   ],
   "source": [
    "os.environ['TF_CPP_MIN_LOG_LEVEL'] = '3'\n",
    "# suppress warnings:\n",
    "warnings.filterwarnings(\"ignore\")\n",
    "\n",
    "for model_name in model_names:\n",
    "    for n in range(multi_train):\n",
    "        dir_name = f\"{n}\"\n",
    "        new_seed = seed + n\n",
    "        # preserve reproducibility\n",
    "        #     !PYTHONHASHSEED=0\n",
    "        #     !TF_DETERMINISTIC_OPS=0\n",
    "        #     !TF_CUDNN_DETERMINISTIC=0\n",
    "        main(model_name=model_name, epochs=epochs, seed=new_seed,\n",
    "             dir_name=dir_name, checkpoints=checkpoints, batch_size=batch_size)\n",
    "        print(f\"-----------------------------train {n} is done! ----------------------------------\")"
   ]
  },
  {
   "cell_type": "markdown",
   "id": "0977a1b7",
   "metadata": {
    "id": "0977a1b7"
   },
   "source": [
    "# Get Metrics"
   ]
  },
  {
   "cell_type": "code",
   "execution_count": 6,
   "id": "34cf3098",
   "metadata": {
    "id": "34cf3098",
    "outputId": "d581a2c5-f802-4e46-ebdb-8f9220da1b11"
   },
   "outputs": [
    {
     "name": "stdout",
     "output_type": "stream",
     "text": [
      "[INFO] Processing Model: WaveletCustom\n",
      "[INFO] Extracting values from csv files...\n",
      "[INFO] Getting the values of file ./checkpoints\\WaveletCustom\\0\\log.csv\n",
      "WaveletCustom \n",
      " {'accuracy': {'std': 0.0, 'mean': 1.0}, 'loss': {'std': 0.0, 'mean': 0.0001}, 'val_accuracy': {'std': 0.0, 'mean': 0.8738}, 'val_loss': {'std': 0.0, 'mean': 0.5344}}\n",
      "[INFO] Processing Model: FFTCustom\n",
      "[INFO] Extracting values from csv files...\n",
      "[INFO] Getting the values of file ./checkpoints\\FFTCustom\\0\\log.csv\n",
      "FFTCustom \n",
      " {'accuracy': {'std': 0.0, 'mean': 1.0}, 'loss': {'std': 0.0, 'mean': 0.0001}, 'val_accuracy': {'std': 0.0, 'mean': 0.8738}, 'val_loss': {'std': 0.0, 'mean': 0.4156}}\n",
      "[INFO] Processing Model: Transformer\n",
      "[INFO] Extracting values from csv files...\n",
      "[INFO] Getting the values of file ./checkpoints\\Transformer\\0\\log.csv\n",
      "Transformer \n",
      " {'accuracy': {'std': 0.0, 'mean': 1.0}, 'loss': {'std': 0.0, 'mean': 0.0}, 'val_accuracy': {'std': 0.0, 'mean': 1.0}, 'val_loss': {'std': 0.0, 'mean': 0.0}}\n",
      "[INFO] Processing Model: conv_lstm\n",
      "[INFO] Extracting values from csv files...\n",
      "[INFO] Getting the values of file ./checkpoints\\conv_lstm\\0\\log.csv\n",
      "conv_lstm \n",
      " {'accuracy': {'std': 0.0, 'mean': 1.0}, 'loss': {'std': 0.0, 'mean': 0.0}, 'val_accuracy': {'std': 0.0, 'mean': 0.9907}, 'val_loss': {'std': 0.0, 'mean': 0.0311}}\n"
     ]
    }
   ],
   "source": [
    "from utils.group_metrics import get_mean_std\n",
    "import os\n",
    "for model_name in model_names:\n",
    "    print(f\"[INFO] Processing Model: {model_name}\")\n",
    "    csv_files = [os.path.join(checkpoints, model_name ,f\"{n}\", \"log.csv\") for n in range(multi_train)]\n",
    "    metrics = get_mean_std(csv_files, \n",
    "                       arguments=(\"accuracy\", \"loss\", \"val_accuracy\", \"val_loss\"),\n",
    "                       operators=(max, min, max, min)\n",
    "                      )\n",
    "    print(model_name, \"\\n\", metrics)"
   ]
  },
  {
   "cell_type": "markdown",
   "id": "1a7bc540",
   "metadata": {
    "id": "be7e53a2"
   },
   "source": [
    "# Get Sensitivity & Specificity"
   ]
  },
  {
   "cell_type": "code",
   "execution_count": 7,
   "id": "a74e2488",
   "metadata": {},
   "outputs": [
    {
     "name": "stdout",
     "output_type": "stream",
     "text": [
      "[INFO] Processing WaveletCustom\n",
      "[INFO] Extracting values from confusion matrices\n",
      "[INFO] Getting the values of df: ./checkpoints\\WaveletCustom\\0\\conf_matrix.csv\n",
      "[INFO] Successfully Extracted dict_keys(['sensitivity', 'specificity', 'accuracy', 'f1_score'])\n",
      "WaveletCustom \n",
      " {'sensitivity': {'std': 0.0, 'mean': 0.75}, 'specificity': {'std': 0.0, 'mean': 0.7453}, 'accuracy': {'std': 0.0, 'mean': 0.7477}, 'f1_score': {'std': 0.0, 'mean': 0.75}}\n",
      "[INFO] Processing FFTCustom\n",
      "[INFO] Extracting values from confusion matrices\n",
      "[INFO] Getting the values of df: ./checkpoints\\FFTCustom\\0\\conf_matrix.csv\n",
      "[INFO] Successfully Extracted dict_keys(['sensitivity', 'specificity', 'accuracy', 'f1_score'])\n",
      "FFTCustom \n",
      " {'sensitivity': {'std': 0.0, 'mean': 0.8901}, 'specificity': {'std': 0.0, 'mean': 0.7805}, 'accuracy': {'std': 0.0, 'mean': 0.8271}, 'f1_score': {'std': 0.0, 'mean': 0.8141}}\n",
      "[INFO] Processing Transformer\n",
      "[INFO] Extracting values from confusion matrices\n",
      "[INFO] Getting the values of df: ./checkpoints\\Transformer\\0\\conf_matrix.csv\n",
      "[INFO] Successfully Extracted dict_keys(['sensitivity', 'specificity', 'accuracy', 'f1_score'])\n",
      "Transformer \n",
      " {'sensitivity': {'std': 0.0, 'mean': 1.0}, 'specificity': {'std': 0.0, 'mean': 1.0}, 'accuracy': {'std': 0.0, 'mean': 1.0}, 'f1_score': {'std': 0.0, 'mean': 1.0}}\n",
      "[INFO] Processing conv_lstm\n",
      "[INFO] Extracting values from confusion matrices\n",
      "[INFO] Getting the values of df: ./checkpoints\\conv_lstm\\0\\conf_matrix.csv\n",
      "[INFO] Successfully Extracted dict_keys(['sensitivity', 'specificity', 'accuracy', 'f1_score'])\n",
      "conv_lstm \n",
      " {'sensitivity': {'std': 0.0, 'mean': 0.9818}, 'specificity': {'std': 0.0, 'mean': 1.0}, 'accuracy': {'std': 0.0, 'mean': 0.9907}, 'f1_score': {'std': 0.0, 'mean': 0.9908}}\n"
     ]
    }
   ],
   "source": [
    "from utils.group_metrics import get_conf_mean_std\n",
    "import os\n",
    "for model_name in model_names:\n",
    "    print(f\"[INFO] Processing {model_name}\")\n",
    "    conf_matrixes = [os.path.join(checkpoints, model_name ,f\"{n}\", \"conf_matrix.csv\") for n in range(multi_train)]\n",
    "\n",
    "    metrics = get_conf_mean_std(conf_matrixes)\n",
    "    print(model_name, \"\\n\", metrics)"
   ]
  },
  {
   "cell_type": "code",
   "execution_count": 3,
   "id": "0d1d560e",
   "metadata": {},
   "outputs": [],
   "source": [
    "from delong_test import delong_test_fn\n",
    "output_z = np.zeros((len(model_names), len(model_names)))\n",
    "output_p = np.zeros((len(model_names), len(model_names)))\n",
    "train_n = 0\n",
    "for f_e, f in enumerate(model_names):\n",
    "    for s_e, s in enumerate(model_names):\n",
    "        df1 = pd.read_csv(os.path.join(checkpoints, f , f\"{train_n}\", \"y_test_pred.csv\"))\n",
    "        df2 = pd.read_csv(os.path.join(checkpoints, s , f\"{train_n}\", \"y_test_pred.csv\"))\n",
    "        assert np.all(df1['y_test'].values == df2['y_test'].values)\n",
    "        z, p = delong_test_fn(df1['y_test'].values, df1['y_pred'].values, df2['y_pred'].values)\n",
    "        output_p[f_e, s_e] = p\n",
    "        output_z[f_e, s_e] = z"
   ]
  },
  {
   "cell_type": "code",
   "execution_count": 4,
   "id": "c00a59c1",
   "metadata": {},
   "outputs": [
    {
     "data": {
      "image/png": "[encoded data removed]",
      "text/plain": [
       "<Figure size 1000x700 with 2 Axes>"
      ]
     },
     "metadata": {},
     "output_type": "display_data"
    }
   ],
   "source": [
    "df_cm = pd.DataFrame(output_z, index=model_names, columns=model_names)\n",
    "plt.figure(figsize=(10, 7))\n",
    "sn.heatmap(df_cm, annot=True, fmt='g')\n",
    "plt.title(\"delong_test_z\")\n",
    "plt.xlabel(\"\")\n",
    "plt.ylabel(\"\")\n",
    "plt.savefig('delong_test_z.png')\n",
    "plt.show()"
   ]
  },
  {
   "cell_type": "code",
   "execution_count": 5,
   "id": "e9f0dd42",
   "metadata": {},
   "outputs": [
    {
     "data": {
      "image/png": "[encoded data removed]",
      "text/plain": [
       "<Figure size 1000x700 with 2 Axes>"
      ]
     },
     "metadata": {},
     "output_type": "display_data"
    }
   ],
   "source": [
    "df_cm = pd.DataFrame(output_p, index=model_names, columns=model_names)\n",
    "plt.figure(figsize=(10, 7))\n",
    "sn.heatmap(df_cm, annot=True, fmt='g')\n",
    "plt.title(\"delong_test_p\")\n",
    "plt.xlabel(\"\")\n",
    "plt.ylabel(\"\")\n",
    "plt.savefig('delong_test_p.png')\n",
    "plt.show()"
   ]
  },
  {
   "cell_type": "markdown",
   "id": "49feee3c",
   "metadata": {},
   "source": [
    "_:)_"
   ]
  }
 ],
 "metadata": {
  "accelerator": "GPU",
  "colab": {
   "include_colab_link": true,
   "name": "train.ipynb",
   "provenance": []
  },
  "kernelspec": {
   "display_name": "Python 3 (ipykernel)",
   "language": "python",
   "name": "python3"
  },
  "language_info": {
   "codemirror_mode": {
    "name": "ipython",
    "version": 3
   },
   "file_extension": ".py",
   "mimetype": "text/x-python",
   "name": "python",
   "nbconvert_exporter": "python",
   "pygments_lexer": "ipython3",
   "version": "3.10.9"
  }
 },
 "nbformat": 4,
 "nbformat_minor": 5
}
