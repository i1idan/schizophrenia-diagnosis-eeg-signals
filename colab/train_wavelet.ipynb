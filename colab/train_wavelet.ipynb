{
  "nbformat": 4,
  "nbformat_minor": 0,
  "metadata": {
    "colab": {
      "name": "back_schizo_reproduce-wavelet.ipynb",
      "provenance": [],
      "collapsed_sections": []
    },
    "kernelspec": {
      "name": "python3",
      "display_name": "Python 3"
    },
    "accelerator": "GPU"
  },
  "cells": [
    {
      "cell_type": "code",
      "source": [
        "from google.colab import drive\n",
        "drive.mount('/content/drive')"
      ],
      "metadata": {
        "id": "bDRpQj9bbGWH",
        "colab": {
          "base_uri": "https://localhost:8080/"
        },
        "outputId": "f8d32d6c-cc14-441f-f5b7-c3bdd8c75e9c"
      },
      "execution_count": 3,
      "outputs": [
        {
          "output_type": "stream",
          "name": "stdout",
          "text": [
            "Mounted at /content/drive\n"
          ]
        }
      ]
    },
    {
      "cell_type": "code",
      "metadata": {
        "id": "2PcJMKv0l4Z8"
      },
      "source": [
        "! pip install pyts"
      ],
      "execution_count": null,
      "outputs": []
    },
    {
      "cell_type": "code",
      "metadata": {
        "id": "bpBOHVmfUoJF"
      },
      "source": [
        "import scipy.io\n",
        "import matplotlib.pyplot as plt\n",
        "\n",
        "data = scipy.io.loadmat('/content/drive/My Drive/DATA.mat')\n"
      ],
      "execution_count": 4,
      "outputs": []
    },
    {
      "cell_type": "code",
      "metadata": {
        "id": "q5KNAwWVVkMm",
        "outputId": "3dfbcb94-b58a-4c3c-dcf6-12bd4632fb44",
        "colab": {
          "base_uri": "https://localhost:8080/"
        }
      },
      "source": [
        "data.keys()"
      ],
      "execution_count": 5,
      "outputs": [
        {
          "output_type": "execute_result",
          "data": {
            "text/plain": [
              "dict_keys(['__header__', '__version__', '__globals__', 'CHAN', 'Fs', 'H', 'S'])"
            ]
          },
          "metadata": {},
          "execution_count": 5
        }
      ]
    },
    {
      "cell_type": "code",
      "metadata": {
        "id": "HmUC-tPuVwf_",
        "outputId": "8ffa85e6-15ce-4968-eaa0-d399c0acac80",
        "colab": {
          "base_uri": "https://localhost:8080/"
        }
      },
      "source": [
        "H = data['H']\n",
        "print(H.shape)\n",
        "S = data['S']\n",
        "print(S.shape)\n",
        "CHAN = data['CHAN']\n",
        "print(CHAN.shape)\n",
        "Fs = data['Fs']\n",
        "print(Fs.shape)\n"
      ],
      "execution_count": 6,
      "outputs": [
        {
          "output_type": "stream",
          "name": "stdout",
          "text": [
            "(14, 1)\n",
            "(14, 1)\n",
            "(1, 19)\n",
            "(1, 1)\n"
          ]
        }
      ]
    },
    {
      "cell_type": "code",
      "metadata": {
        "id": "nHTiE4YRgL7f",
        "outputId": "03651d22-b84c-4c3b-9de7-599e5566a711",
        "colab": {
          "base_uri": "https://localhost:8080/"
        }
      },
      "source": [
        "\n",
        "H = H.reshape(14)\n",
        "H.shape\n",
        "\n",
        "print(H.shape)\n",
        "print(H[0].shape)\n",
        "print(H[0][0].shape)\n"
      ],
      "execution_count": 7,
      "outputs": [
        {
          "output_type": "stream",
          "name": "stdout",
          "text": [
            "(14,)\n",
            "(19, 180000)\n",
            "(180000,)\n"
          ]
        }
      ]
    },
    {
      "cell_type": "code",
      "metadata": {
        "id": "jUcyDOLiiQS3",
        "outputId": "0e1c9f8d-0992-41fd-ed6c-2df18acd0e9f",
        "colab": {
          "base_uri": "https://localhost:8080/"
        }
      },
      "source": [
        "S = S.reshape(14)\n",
        "\n",
        "print(S.shape)\n",
        "print(S[0].shape)\n",
        "print(S[0][0].shape)\n"
      ],
      "execution_count": 8,
      "outputs": [
        {
          "output_type": "stream",
          "name": "stdout",
          "text": [
            "(14,)\n",
            "(19, 180000)\n",
            "(180000,)\n"
          ]
        }
      ]
    },
    {
      "cell_type": "code",
      "metadata": {
        "id": "n7vSFCw4r9Aj"
      },
      "source": [
        "import matplotlib.pyplot as plt\n",
        "from mpl_toolkits.axes_grid1 import ImageGrid\n",
        "from pyts.image import GramianAngularField\n",
        "from pyts.image import MarkovTransitionField\n",
        "\n",
        "normal=[]\n",
        "for j in range(14):\n",
        " for i in range(19):\n",
        "   X = H[j][i,1:15000]\n",
        "   X = X.reshape(1,-1)\n",
        "   \n",
        "   # MTF transformation\n",
        "  #  mtf = MarkovTransitionField(image_size=24)\n",
        "  #  X_mtf = mtf.fit_transform(X)\n",
        "\n",
        "\n",
        "   gasf = GramianAngularField(image_size=112, method='summation')\n",
        "   X_gasf = gasf.fit_transform(X)\n",
        "   normal.append(X_gasf)\n",
        "\n",
        "\n"
      ],
      "execution_count": 9,
      "outputs": []
    },
    {
      "cell_type": "code",
      "metadata": {
        "id": "6injaSm3C6-R"
      },
      "source": [
        "for j in range(14):\n",
        " for i in range(19):\n",
        "   X = H[j][i,1:15000]\n",
        "   X = X.reshape(1,-1)\n",
        "   gasf = GramianAngularField(image_size=112, method='difference')\n",
        "   X_gasf = gasf.fit_transform(X)\n",
        "   normal.append(X_gasf)\n",
        "\n",
        "\n"
      ],
      "execution_count": 10,
      "outputs": []
    },
    {
      "cell_type": "code",
      "metadata": {
        "id": "zt4YSns2lTg1"
      },
      "source": [
        "schizo=[]\n",
        "for j in range(14):\n",
        " for i in range(19):\n",
        "   X = S[j][i,1:15000]\n",
        "   X = X.reshape(1,-1)\n",
        "   gasf = GramianAngularField(image_size=112, method='summation')\n",
        "   X_gasf = gasf.fit_transform(X)\n",
        "   schizo.append(X_gasf)\n",
        "\n",
        "\n"
      ],
      "execution_count": 11,
      "outputs": []
    },
    {
      "cell_type": "code",
      "metadata": {
        "id": "VyTgoPTBDNX-"
      },
      "source": [
        "for j in range(14):\n",
        " for i in range(19):\n",
        "   X = S[j][i,1:15000]\n",
        "   X = X.reshape(1,-1)\n",
        "   gasf = GramianAngularField(image_size=112, method='difference')\n",
        "   X_gasf = gasf.fit_transform(X)\n",
        "   schizo.append(X_gasf)\n",
        "\n",
        "\n"
      ],
      "execution_count": 12,
      "outputs": []
    },
    {
      "cell_type": "code",
      "metadata": {
        "id": "f_i42nW3DWIk",
        "outputId": "d0d4a326-2ff3-4702-e857-494d33f7c851",
        "colab": {
          "base_uri": "https://localhost:8080/"
        }
      },
      "source": [
        "#create labels\n",
        "import numpy as np\n",
        "\n",
        "n = np.zeros((532,))\n",
        "s = np.ones((532,))\n",
        "labels = np.concatenate((n,s), axis = 0)\n",
        "\n",
        "print(len(labels))\n",
        "print(np.unique(labels))\n",
        "\n",
        "\n"
      ],
      "execution_count": 13,
      "outputs": [
        {
          "output_type": "stream",
          "name": "stdout",
          "text": [
            "1064\n",
            "[0. 1.]\n"
          ]
        }
      ]
    },
    {
      "cell_type": "code",
      "metadata": {
        "id": "5RDZxXrhl4N5",
        "outputId": "ce6d59a2-a08f-428d-bd32-70421e0e9e0f",
        "colab": {
          "base_uri": "https://localhost:8080/"
        }
      },
      "source": [
        "data = []\n",
        "\n",
        "for img in normal:\n",
        "  data.append(img)\n",
        "\n",
        "for img in schizo:\n",
        "  data.append(img)\n",
        "\n",
        "\n",
        "len(data)    "
      ],
      "execution_count": 14,
      "outputs": [
        {
          "output_type": "execute_result",
          "data": {
            "text/plain": [
              "1064"
            ]
          },
          "metadata": {},
          "execution_count": 14
        }
      ]
    },
    {
      "cell_type": "code",
      "source": [
        "data = np.array(data)\n",
        "data = data.reshape(-1, 112, 112, 1)\n",
        "labels = np.array(labels)"
      ],
      "metadata": {
        "id": "yc4GB4-2fHop"
      },
      "execution_count": 15,
      "outputs": []
    },
    {
      "cell_type": "code",
      "metadata": {
        "id": "LKR7BB_E5Zm8",
        "outputId": "60f43432-11f1-475c-ef82-c950e19471a0",
        "colab": {
          "base_uri": "https://localhost:8080/"
        }
      },
      "source": [
        "#split data into train and test sets\n",
        "from sklearn.model_selection import train_test_split\n",
        "\n",
        "X_train, X_test, Y_train, Y_test = train_test_split(data, labels, test_size=0.2, \n",
        "                                                    random_state=42,\n",
        "                                                    shuffle=True,\n",
        "                                                    stratify=labels)\n",
        "\n",
        "\n",
        "\n",
        "print(X_train.shape)\n",
        "print(X_test.shape)"
      ],
      "execution_count": 16,
      "outputs": [
        {
          "output_type": "stream",
          "name": "stdout",
          "text": [
            "(851, 112, 112, 1)\n",
            "(213, 112, 112, 1)\n"
          ]
        }
      ]
    },
    {
      "cell_type": "code",
      "source": [
        "import tensorflow as tf \n",
        "import cv2\n",
        "\n",
        "def gabor_filter(x):\n",
        "  x = tf.cast(x, dtype=tf.float32)\n",
        "  # x = tf.image.rgb_to_grayscale(x)\n",
        "  params = {'ksize':(3, 3), 'sigma':1.0, 'theta': 0, 'lambd':5.0, 'gamma':0.02}\n",
        "  kernel = cv2.getGaborKernel(**params)\n",
        "  kernel = tf.expand_dims(kernel, 2)\n",
        "  kernel = tf.expand_dims(kernel, 3)\n",
        "  kernel = tf.cast(kernel, dtype=tf.float32)\n",
        "  return tf.nn.conv2d(x, kernel, strides=[1, 1, 1, 1], padding='VALID')\n",
        "\n",
        "gabor_layer = tf.keras.layers.Lambda(gabor_filter)"
      ],
      "metadata": {
        "id": "tjDN5X7aewwR"
      },
      "execution_count": 18,
      "outputs": []
    },
    {
      "cell_type": "code",
      "source": [
        "#define model\n",
        "import tensorflow as tf \n",
        "from numpy import mean\n",
        "from numpy import std\n",
        "from scipy.io import loadmat\n",
        "import numpy as np\n",
        "from pandas import read_csv\n",
        "from tensorflow.keras.models import Sequential\n",
        "from tensorflow.keras.layers import Dense\n",
        "from tensorflow.keras.layers import Flatten\n",
        "from tensorflow.keras.layers import Dropout\n",
        "from tensorflow.keras.layers import LSTM\n",
        "from tensorflow.keras.layers import TimeDistributed\n",
        "from tensorflow.keras.layers import Conv1D, Conv2D\n",
        "from tensorflow.keras.layers import MaxPooling1D, MaxPooling2D\n",
        "from tensorflow.keras.utils import to_categorical\n",
        "from matplotlib import pyplot\n",
        "from sklearn.model_selection import StratifiedKFold, train_test_split\n",
        "from tensorflow.keras.callbacks import EarlyStopping\n",
        "from sklearn.metrics import confusion_matrix\n",
        "from tensorflow.keras.utils import plot_model\n",
        "from tensorflow.keras.layers import Input, Dense, LSTM, MaxPooling1D, Conv1D\n",
        "from tensorflow.keras.models import Model\n",
        "from tensorflow.keras import initializers\n",
        "import cv2\n",
        "\n",
        "\n",
        "\n",
        "model = tf.keras.models.Sequential()\n",
        "\n",
        "model.add(tf.keras.layers.Input(shape=(112, 112, 1)))\n",
        "model.add(gabor_layer)\n",
        "\n",
        "model.add(Conv2D(8, kernel_size=(3, 3), strides=(1, 1),\n",
        "                 activation='relu'))\n",
        "                 \n",
        "model.add(Conv2D(8, kernel_size=(2, 2), activation='relu'))\n",
        "\n",
        "\n",
        "model.add(MaxPooling2D(pool_size=(2, 2)))\n",
        "model.add(Dropout(0.25))\n",
        "\n",
        "\n",
        "model.add(Conv2D(16, (2, 2), activation='relu'))\n",
        "model.add(Conv2D(16, (2, 2), activation='relu'))\n",
        "\n",
        "\n",
        "model.add(MaxPooling2D(pool_size=(2, 2)))\n",
        "model.add(Conv2D(32, (2, 2), activation='relu'))\n",
        "model.add(Conv2D(32, (2, 2), activation='relu'))\n",
        "\n",
        "# model.add(fft_layer)\n",
        "\n",
        "model.add(Dropout(0.25))\n",
        "\n",
        "model.add(Conv2D(64, (2, 2), activation='relu'))\n",
        "# model.add(MaxPooling2D(pool_size=(2, 2)))\n",
        "\n",
        "\n",
        "model.add(Dropout(0.5))\n",
        "model.add(Flatten())\n",
        "model.add(Dropout(0.5))\n",
        "model.add(Dense(32, activation='relu'))\n",
        "model.add(Dense(1, activation='sigmoid'))\n",
        "\n",
        "model.summary()\n",
        "# from keras.utils import plot_model\n",
        "# plot_model(model)"
      ],
      "metadata": {
        "colab": {
          "base_uri": "https://localhost:8080/"
        },
        "id": "9IdC2eloeyqZ",
        "outputId": "ade816b5-6d04-4901-a963-5145135c94ce"
      },
      "execution_count": 22,
      "outputs": [
        {
          "output_type": "stream",
          "name": "stdout",
          "text": [
            "Model: \"sequential_3\"\n",
            "_________________________________________________________________\n",
            " Layer (type)                Output Shape              Param #   \n",
            "=================================================================\n",
            " lambda_1 (Lambda)           (None, 110, 110, 1)       0         \n",
            "                                                                 \n",
            " conv2d_18 (Conv2D)          (None, 108, 108, 8)       80        \n",
            "                                                                 \n",
            " conv2d_19 (Conv2D)          (None, 107, 107, 8)       264       \n",
            "                                                                 \n",
            " max_pooling2d_5 (MaxPooling  (None, 53, 53, 8)        0         \n",
            " 2D)                                                             \n",
            "                                                                 \n",
            " dropout_9 (Dropout)         (None, 53, 53, 8)         0         \n",
            "                                                                 \n",
            " conv2d_20 (Conv2D)          (None, 52, 52, 16)        528       \n",
            "                                                                 \n",
            " conv2d_21 (Conv2D)          (None, 51, 51, 16)        1040      \n",
            "                                                                 \n",
            " max_pooling2d_6 (MaxPooling  (None, 25, 25, 16)       0         \n",
            " 2D)                                                             \n",
            "                                                                 \n",
            " conv2d_22 (Conv2D)          (None, 24, 24, 32)        2080      \n",
            "                                                                 \n",
            " conv2d_23 (Conv2D)          (None, 23, 23, 32)        4128      \n",
            "                                                                 \n",
            " dropout_10 (Dropout)        (None, 23, 23, 32)        0         \n",
            "                                                                 \n",
            " conv2d_24 (Conv2D)          (None, 22, 22, 64)        8256      \n",
            "                                                                 \n",
            " dropout_11 (Dropout)        (None, 22, 22, 64)        0         \n",
            "                                                                 \n",
            " flatten_2 (Flatten)         (None, 30976)             0         \n",
            "                                                                 \n",
            " dropout_12 (Dropout)        (None, 30976)             0         \n",
            "                                                                 \n",
            " dense_4 (Dense)             (None, 32)                991264    \n",
            "                                                                 \n",
            " dense_5 (Dense)             (None, 1)                 33        \n",
            "                                                                 \n",
            "=================================================================\n",
            "Total params: 1,007,673\n",
            "Trainable params: 1,007,673\n",
            "Non-trainable params: 0\n",
            "_________________________________________________________________\n"
          ]
        }
      ]
    },
    {
      "cell_type": "code",
      "metadata": {
        "id": "anrF_5h0Ez9p",
        "outputId": "b1f5605d-0014-4528-e92b-06800a147149",
        "colab": {
          "base_uri": "https://localhost:8080/"
        }
      },
      "source": [
        "from tensorflow import keras\n",
        "opt = keras.optimizers.Adam(learning_rate=0.001)\n",
        "\n",
        "#compiling the CNN\n",
        "\n",
        "model.compile(loss='binary_crossentropy', optimizer=opt, metrics=['accuracy'])\n",
        "\n",
        "history = model.fit(X_train, Y_train, epochs=200, batch_size=4, verbose=1, validation_data=(X_test, Y_test))\n",
        "     "
      ],
      "execution_count": 23,
      "outputs": [
        {
          "output_type": "stream",
          "name": "stdout",
          "text": [
            "Epoch 1/200\n",
            "213/213 [==============================] - 12s 13ms/step - loss: 0.6471 - accuracy: 0.6157 - val_loss: 0.5315 - val_accuracy: 0.7559\n",
            "Epoch 2/200\n",
            "213/213 [==============================] - 2s 10ms/step - loss: 0.5550 - accuracy: 0.7286 - val_loss: 0.4866 - val_accuracy: 0.7512\n",
            "Epoch 3/200\n",
            "213/213 [==============================] - 2s 10ms/step - loss: 0.4899 - accuracy: 0.7450 - val_loss: 0.4473 - val_accuracy: 0.7840\n",
            "Epoch 4/200\n",
            "213/213 [==============================] - 2s 10ms/step - loss: 0.4313 - accuracy: 0.7779 - val_loss: 0.4429 - val_accuracy: 0.7653\n",
            "Epoch 5/200\n",
            "213/213 [==============================] - 2s 11ms/step - loss: 0.4031 - accuracy: 0.8226 - val_loss: 0.3824 - val_accuracy: 0.8310\n",
            "Epoch 6/200\n",
            "213/213 [==============================] - 2s 10ms/step - loss: 0.3268 - accuracy: 0.8437 - val_loss: 0.3646 - val_accuracy: 0.8310\n",
            "Epoch 7/200\n",
            "213/213 [==============================] - 2s 11ms/step - loss: 0.3081 - accuracy: 0.8801 - val_loss: 0.3284 - val_accuracy: 0.8404\n",
            "Epoch 8/200\n",
            "213/213 [==============================] - 2s 10ms/step - loss: 0.2797 - accuracy: 0.8801 - val_loss: 0.2996 - val_accuracy: 0.8545\n",
            "Epoch 9/200\n",
            "213/213 [==============================] - 2s 11ms/step - loss: 0.2363 - accuracy: 0.9048 - val_loss: 0.2837 - val_accuracy: 0.8920\n",
            "Epoch 10/200\n",
            "213/213 [==============================] - 2s 11ms/step - loss: 0.2158 - accuracy: 0.9166 - val_loss: 0.3673 - val_accuracy: 0.8592\n",
            "Epoch 11/200\n",
            "213/213 [==============================] - 2s 10ms/step - loss: 0.1879 - accuracy: 0.9283 - val_loss: 0.2551 - val_accuracy: 0.8920\n",
            "Epoch 12/200\n",
            "213/213 [==============================] - 2s 10ms/step - loss: 0.1582 - accuracy: 0.9283 - val_loss: 0.2146 - val_accuracy: 0.9202\n",
            "Epoch 13/200\n",
            "213/213 [==============================] - 2s 10ms/step - loss: 0.1317 - accuracy: 0.9553 - val_loss: 0.3164 - val_accuracy: 0.8826\n",
            "Epoch 14/200\n",
            "213/213 [==============================] - 2s 11ms/step - loss: 0.1453 - accuracy: 0.9365 - val_loss: 0.2468 - val_accuracy: 0.9014\n",
            "Epoch 15/200\n",
            "213/213 [==============================] - 2s 10ms/step - loss: 0.1307 - accuracy: 0.9495 - val_loss: 0.2150 - val_accuracy: 0.9155\n",
            "Epoch 16/200\n",
            "213/213 [==============================] - 2s 10ms/step - loss: 0.0970 - accuracy: 0.9706 - val_loss: 0.2218 - val_accuracy: 0.9155\n",
            "Epoch 17/200\n",
            "213/213 [==============================] - 2s 10ms/step - loss: 0.0921 - accuracy: 0.9706 - val_loss: 0.3175 - val_accuracy: 0.8826\n",
            "Epoch 18/200\n",
            "213/213 [==============================] - 2s 11ms/step - loss: 0.0897 - accuracy: 0.9577 - val_loss: 0.2049 - val_accuracy: 0.9155\n",
            "Epoch 19/200\n",
            "213/213 [==============================] - 2s 10ms/step - loss: 0.0837 - accuracy: 0.9753 - val_loss: 0.2680 - val_accuracy: 0.9249\n",
            "Epoch 20/200\n",
            "213/213 [==============================] - 2s 10ms/step - loss: 0.1258 - accuracy: 0.9600 - val_loss: 0.2236 - val_accuracy: 0.9155\n",
            "Epoch 21/200\n",
            "213/213 [==============================] - 2s 10ms/step - loss: 0.0798 - accuracy: 0.9741 - val_loss: 0.2010 - val_accuracy: 0.9202\n",
            "Epoch 22/200\n",
            "213/213 [==============================] - 2s 10ms/step - loss: 0.0504 - accuracy: 0.9812 - val_loss: 0.2410 - val_accuracy: 0.9249\n",
            "Epoch 23/200\n",
            "213/213 [==============================] - 2s 10ms/step - loss: 0.0554 - accuracy: 0.9824 - val_loss: 0.3015 - val_accuracy: 0.9202\n",
            "Epoch 24/200\n",
            "213/213 [==============================] - 2s 10ms/step - loss: 0.0690 - accuracy: 0.9753 - val_loss: 0.1703 - val_accuracy: 0.9484\n",
            "Epoch 25/200\n",
            "213/213 [==============================] - 2s 10ms/step - loss: 0.0407 - accuracy: 0.9847 - val_loss: 0.1381 - val_accuracy: 0.9531\n",
            "Epoch 26/200\n",
            "213/213 [==============================] - 2s 10ms/step - loss: 0.0411 - accuracy: 0.9871 - val_loss: 0.2091 - val_accuracy: 0.9437\n",
            "Epoch 27/200\n",
            "213/213 [==============================] - 2s 11ms/step - loss: 0.0549 - accuracy: 0.9847 - val_loss: 0.2058 - val_accuracy: 0.9390\n",
            "Epoch 28/200\n",
            "213/213 [==============================] - 2s 10ms/step - loss: 0.0919 - accuracy: 0.9706 - val_loss: 0.2700 - val_accuracy: 0.9061\n",
            "Epoch 29/200\n",
            "213/213 [==============================] - 2s 11ms/step - loss: 0.0612 - accuracy: 0.9788 - val_loss: 0.2111 - val_accuracy: 0.9484\n",
            "Epoch 30/200\n",
            "213/213 [==============================] - 2s 10ms/step - loss: 0.0266 - accuracy: 0.9906 - val_loss: 0.1881 - val_accuracy: 0.9531\n",
            "Epoch 31/200\n",
            "213/213 [==============================] - 2s 11ms/step - loss: 0.0471 - accuracy: 0.9871 - val_loss: 0.2881 - val_accuracy: 0.9484\n",
            "Epoch 32/200\n",
            "213/213 [==============================] - 2s 11ms/step - loss: 0.0484 - accuracy: 0.9788 - val_loss: 0.2273 - val_accuracy: 0.9390\n",
            "Epoch 33/200\n",
            "213/213 [==============================] - 2s 11ms/step - loss: 0.0507 - accuracy: 0.9800 - val_loss: 0.2362 - val_accuracy: 0.9484\n",
            "Epoch 34/200\n",
            "213/213 [==============================] - 2s 11ms/step - loss: 0.0520 - accuracy: 0.9800 - val_loss: 0.1534 - val_accuracy: 0.9531\n",
            "Epoch 35/200\n",
            "213/213 [==============================] - 2s 10ms/step - loss: 0.0252 - accuracy: 0.9929 - val_loss: 0.1970 - val_accuracy: 0.9531\n",
            "Epoch 36/200\n",
            "213/213 [==============================] - 2s 10ms/step - loss: 0.0195 - accuracy: 0.9906 - val_loss: 0.2757 - val_accuracy: 0.9343\n",
            "Epoch 37/200\n",
            "213/213 [==============================] - 2s 11ms/step - loss: 0.0142 - accuracy: 0.9929 - val_loss: 0.3212 - val_accuracy: 0.9390\n",
            "Epoch 38/200\n",
            "213/213 [==============================] - 2s 10ms/step - loss: 0.0397 - accuracy: 0.9859 - val_loss: 0.5889 - val_accuracy: 0.8967\n",
            "Epoch 39/200\n",
            "213/213 [==============================] - 2s 11ms/step - loss: 0.0407 - accuracy: 0.9812 - val_loss: 0.2486 - val_accuracy: 0.9437\n",
            "Epoch 40/200\n",
            "213/213 [==============================] - 2s 10ms/step - loss: 0.0713 - accuracy: 0.9777 - val_loss: 0.1905 - val_accuracy: 0.9577\n",
            "Epoch 41/200\n",
            "213/213 [==============================] - 2s 11ms/step - loss: 0.1106 - accuracy: 0.9612 - val_loss: 0.2177 - val_accuracy: 0.9437\n",
            "Epoch 42/200\n",
            "213/213 [==============================] - 2s 11ms/step - loss: 0.0357 - accuracy: 0.9859 - val_loss: 0.2206 - val_accuracy: 0.9390\n",
            "Epoch 43/200\n",
            "213/213 [==============================] - 2s 11ms/step - loss: 0.0304 - accuracy: 0.9929 - val_loss: 0.2714 - val_accuracy: 0.9343\n",
            "Epoch 44/200\n",
            "213/213 [==============================] - 2s 11ms/step - loss: 0.0440 - accuracy: 0.9871 - val_loss: 0.1944 - val_accuracy: 0.9390\n",
            "Epoch 45/200\n",
            "213/213 [==============================] - 2s 11ms/step - loss: 0.0149 - accuracy: 0.9953 - val_loss: 0.2180 - val_accuracy: 0.9624\n",
            "Epoch 46/200\n",
            "213/213 [==============================] - 2s 11ms/step - loss: 0.0073 - accuracy: 0.9988 - val_loss: 0.2743 - val_accuracy: 0.9343\n",
            "Epoch 47/200\n",
            "213/213 [==============================] - 2s 11ms/step - loss: 0.0586 - accuracy: 0.9777 - val_loss: 0.2798 - val_accuracy: 0.9390\n",
            "Epoch 48/200\n",
            "213/213 [==============================] - 2s 11ms/step - loss: 0.0479 - accuracy: 0.9847 - val_loss: 0.2436 - val_accuracy: 0.9249\n",
            "Epoch 49/200\n",
            "213/213 [==============================] - 2s 11ms/step - loss: 0.0822 - accuracy: 0.9812 - val_loss: 0.1267 - val_accuracy: 0.9531\n",
            "Epoch 50/200\n",
            "213/213 [==============================] - 2s 11ms/step - loss: 0.0293 - accuracy: 0.9906 - val_loss: 0.2027 - val_accuracy: 0.9390\n",
            "Epoch 51/200\n",
            "213/213 [==============================] - 2s 11ms/step - loss: 0.0438 - accuracy: 0.9824 - val_loss: 0.1472 - val_accuracy: 0.9484\n",
            "Epoch 52/200\n",
            "213/213 [==============================] - 2s 11ms/step - loss: 0.0095 - accuracy: 0.9965 - val_loss: 0.1805 - val_accuracy: 0.9531\n",
            "Epoch 53/200\n",
            "213/213 [==============================] - 2s 11ms/step - loss: 0.0072 - accuracy: 0.9976 - val_loss: 0.2256 - val_accuracy: 0.9390\n",
            "Epoch 54/200\n",
            "213/213 [==============================] - 2s 11ms/step - loss: 0.0515 - accuracy: 0.9871 - val_loss: 0.1673 - val_accuracy: 0.9671\n",
            "Epoch 55/200\n",
            "213/213 [==============================] - 2s 11ms/step - loss: 0.0908 - accuracy: 0.9824 - val_loss: 0.1982 - val_accuracy: 0.9014\n",
            "Epoch 56/200\n",
            "213/213 [==============================] - 2s 11ms/step - loss: 0.0240 - accuracy: 0.9941 - val_loss: 0.1742 - val_accuracy: 0.9437\n",
            "Epoch 57/200\n",
            "213/213 [==============================] - 2s 11ms/step - loss: 0.0106 - accuracy: 0.9965 - val_loss: 0.1619 - val_accuracy: 0.9390\n",
            "Epoch 58/200\n",
            "213/213 [==============================] - 2s 11ms/step - loss: 0.0218 - accuracy: 0.9929 - val_loss: 0.1756 - val_accuracy: 0.9484\n",
            "Epoch 59/200\n",
            "213/213 [==============================] - 2s 11ms/step - loss: 0.0690 - accuracy: 0.9835 - val_loss: 0.2004 - val_accuracy: 0.9390\n",
            "Epoch 60/200\n",
            "213/213 [==============================] - 2s 11ms/step - loss: 0.0248 - accuracy: 0.9871 - val_loss: 0.1987 - val_accuracy: 0.9343\n",
            "Epoch 61/200\n",
            "213/213 [==============================] - 2s 11ms/step - loss: 0.0091 - accuracy: 0.9976 - val_loss: 0.0878 - val_accuracy: 0.9577\n",
            "Epoch 62/200\n",
            "213/213 [==============================] - 2s 11ms/step - loss: 0.0619 - accuracy: 0.9882 - val_loss: 0.1603 - val_accuracy: 0.9437\n",
            "Epoch 63/200\n",
            "213/213 [==============================] - 2s 11ms/step - loss: 0.0066 - accuracy: 0.9988 - val_loss: 0.1909 - val_accuracy: 0.9390\n",
            "Epoch 64/200\n",
            "213/213 [==============================] - 2s 11ms/step - loss: 0.0070 - accuracy: 0.9988 - val_loss: 0.2124 - val_accuracy: 0.9390\n",
            "Epoch 65/200\n",
            "213/213 [==============================] - 2s 11ms/step - loss: 0.0487 - accuracy: 0.9882 - val_loss: 0.1991 - val_accuracy: 0.9484\n",
            "Epoch 66/200\n",
            "213/213 [==============================] - 2s 11ms/step - loss: 0.0100 - accuracy: 0.9953 - val_loss: 0.2139 - val_accuracy: 0.9531\n",
            "Epoch 67/200\n",
            "213/213 [==============================] - 2s 11ms/step - loss: 0.0084 - accuracy: 0.9965 - val_loss: 0.2463 - val_accuracy: 0.9531\n",
            "Epoch 68/200\n",
            "213/213 [==============================] - 2s 11ms/step - loss: 0.0124 - accuracy: 0.9965 - val_loss: 0.4307 - val_accuracy: 0.9296\n",
            "Epoch 69/200\n",
            "213/213 [==============================] - 2s 11ms/step - loss: 0.1161 - accuracy: 0.9694 - val_loss: 0.1303 - val_accuracy: 0.9577\n",
            "Epoch 70/200\n",
            "213/213 [==============================] - 2s 11ms/step - loss: 0.0190 - accuracy: 0.9918 - val_loss: 0.1125 - val_accuracy: 0.9531\n",
            "Epoch 71/200\n",
            "213/213 [==============================] - 2s 11ms/step - loss: 0.0199 - accuracy: 0.9941 - val_loss: 0.1406 - val_accuracy: 0.9671\n",
            "Epoch 72/200\n",
            "213/213 [==============================] - 2s 11ms/step - loss: 0.0066 - accuracy: 0.9976 - val_loss: 0.1810 - val_accuracy: 0.9531\n",
            "Epoch 73/200\n",
            "213/213 [==============================] - 2s 11ms/step - loss: 0.0310 - accuracy: 0.9882 - val_loss: 0.2056 - val_accuracy: 0.9624\n",
            "Epoch 74/200\n",
            "213/213 [==============================] - 2s 11ms/step - loss: 0.0868 - accuracy: 0.9788 - val_loss: 0.1264 - val_accuracy: 0.9577\n",
            "Epoch 75/200\n",
            "213/213 [==============================] - 2s 11ms/step - loss: 0.0165 - accuracy: 0.9941 - val_loss: 0.1447 - val_accuracy: 0.9531\n",
            "Epoch 76/200\n",
            "213/213 [==============================] - 2s 11ms/step - loss: 0.0109 - accuracy: 0.9941 - val_loss: 0.1591 - val_accuracy: 0.9624\n",
            "Epoch 77/200\n",
            "213/213 [==============================] - 2s 11ms/step - loss: 0.0150 - accuracy: 0.9953 - val_loss: 0.1411 - val_accuracy: 0.9437\n",
            "Epoch 78/200\n",
            "213/213 [==============================] - 2s 11ms/step - loss: 0.0159 - accuracy: 0.9941 - val_loss: 0.3166 - val_accuracy: 0.9531\n",
            "Epoch 79/200\n",
            "213/213 [==============================] - 2s 11ms/step - loss: 0.0468 - accuracy: 0.9847 - val_loss: 0.2559 - val_accuracy: 0.9343\n",
            "Epoch 80/200\n",
            "213/213 [==============================] - 2s 11ms/step - loss: 0.0286 - accuracy: 0.9906 - val_loss: 0.1166 - val_accuracy: 0.9718\n",
            "Epoch 81/200\n",
            "213/213 [==============================] - 2s 11ms/step - loss: 0.0172 - accuracy: 0.9929 - val_loss: 0.1523 - val_accuracy: 0.9765\n",
            "Epoch 82/200\n",
            "213/213 [==============================] - 2s 11ms/step - loss: 0.0550 - accuracy: 0.9859 - val_loss: 0.1398 - val_accuracy: 0.9624\n",
            "Epoch 83/200\n",
            "213/213 [==============================] - 2s 11ms/step - loss: 0.0276 - accuracy: 0.9941 - val_loss: 0.1037 - val_accuracy: 0.9624\n",
            "Epoch 84/200\n",
            "213/213 [==============================] - 2s 11ms/step - loss: 0.0126 - accuracy: 0.9941 - val_loss: 0.2258 - val_accuracy: 0.9531\n",
            "Epoch 85/200\n",
            "213/213 [==============================] - 2s 11ms/step - loss: 0.0055 - accuracy: 0.9976 - val_loss: 0.1930 - val_accuracy: 0.9484\n",
            "Epoch 86/200\n",
            "213/213 [==============================] - 2s 11ms/step - loss: 0.0051 - accuracy: 0.9976 - val_loss: 0.2383 - val_accuracy: 0.9531\n",
            "Epoch 87/200\n",
            "213/213 [==============================] - 2s 11ms/step - loss: 0.0413 - accuracy: 0.9894 - val_loss: 0.2745 - val_accuracy: 0.9390\n",
            "Epoch 88/200\n",
            "213/213 [==============================] - 2s 11ms/step - loss: 0.0131 - accuracy: 0.9965 - val_loss: 0.3758 - val_accuracy: 0.9108\n",
            "Epoch 89/200\n",
            "213/213 [==============================] - 2s 11ms/step - loss: 0.0236 - accuracy: 0.9929 - val_loss: 0.2237 - val_accuracy: 0.9624\n",
            "Epoch 90/200\n",
            "213/213 [==============================] - 2s 11ms/step - loss: 0.0121 - accuracy: 0.9965 - val_loss: 0.1734 - val_accuracy: 0.9577\n",
            "Epoch 91/200\n",
            "213/213 [==============================] - 2s 11ms/step - loss: 0.0225 - accuracy: 0.9965 - val_loss: 0.5022 - val_accuracy: 0.9061\n",
            "Epoch 92/200\n",
            "213/213 [==============================] - 2s 11ms/step - loss: 0.0277 - accuracy: 0.9918 - val_loss: 0.2938 - val_accuracy: 0.9343\n",
            "Epoch 93/200\n",
            "213/213 [==============================] - 2s 11ms/step - loss: 0.0236 - accuracy: 0.9929 - val_loss: 0.2342 - val_accuracy: 0.9624\n",
            "Epoch 94/200\n",
            "213/213 [==============================] - 2s 11ms/step - loss: 0.0180 - accuracy: 0.9953 - val_loss: 0.1744 - val_accuracy: 0.9437\n",
            "Epoch 95/200\n",
            "213/213 [==============================] - 2s 11ms/step - loss: 0.0197 - accuracy: 0.9918 - val_loss: 0.1718 - val_accuracy: 0.9484\n",
            "Epoch 96/200\n",
            "213/213 [==============================] - 2s 11ms/step - loss: 0.0434 - accuracy: 0.9847 - val_loss: 0.1679 - val_accuracy: 0.9390\n",
            "Epoch 97/200\n",
            "213/213 [==============================] - 2s 11ms/step - loss: 0.0540 - accuracy: 0.9871 - val_loss: 0.1501 - val_accuracy: 0.9577\n",
            "Epoch 98/200\n",
            "213/213 [==============================] - 2s 11ms/step - loss: 0.0143 - accuracy: 0.9965 - val_loss: 0.1367 - val_accuracy: 0.9624\n",
            "Epoch 99/200\n",
            "213/213 [==============================] - 2s 11ms/step - loss: 0.0124 - accuracy: 0.9941 - val_loss: 0.1727 - val_accuracy: 0.9624\n",
            "Epoch 100/200\n",
            "213/213 [==============================] - 2s 11ms/step - loss: 0.0073 - accuracy: 0.9976 - val_loss: 0.2131 - val_accuracy: 0.9437\n",
            "Epoch 101/200\n",
            "213/213 [==============================] - 2s 11ms/step - loss: 0.0065 - accuracy: 0.9976 - val_loss: 0.1188 - val_accuracy: 0.9624\n",
            "Epoch 102/200\n",
            "213/213 [==============================] - 2s 11ms/step - loss: 0.0300 - accuracy: 0.9906 - val_loss: 0.5143 - val_accuracy: 0.9202\n",
            "Epoch 103/200\n",
            "213/213 [==============================] - 2s 11ms/step - loss: 0.0619 - accuracy: 0.9871 - val_loss: 0.2483 - val_accuracy: 0.9296\n",
            "Epoch 104/200\n",
            "213/213 [==============================] - 2s 11ms/step - loss: 0.0125 - accuracy: 0.9941 - val_loss: 0.2337 - val_accuracy: 0.9437\n",
            "Epoch 105/200\n",
            "213/213 [==============================] - 2s 11ms/step - loss: 0.0133 - accuracy: 0.9965 - val_loss: 0.3657 - val_accuracy: 0.9390\n",
            "Epoch 106/200\n",
            "213/213 [==============================] - 2s 11ms/step - loss: 0.0146 - accuracy: 0.9953 - val_loss: 0.2329 - val_accuracy: 0.9531\n",
            "Epoch 107/200\n",
            "213/213 [==============================] - 2s 11ms/step - loss: 2.7814e-04 - accuracy: 1.0000 - val_loss: 0.2394 - val_accuracy: 0.9577\n",
            "Epoch 108/200\n",
            "213/213 [==============================] - 2s 11ms/step - loss: 0.0240 - accuracy: 0.9941 - val_loss: 0.3632 - val_accuracy: 0.9202\n",
            "Epoch 109/200\n",
            "213/213 [==============================] - 2s 11ms/step - loss: 0.0672 - accuracy: 0.9835 - val_loss: 0.3227 - val_accuracy: 0.9296\n",
            "Epoch 110/200\n",
            "213/213 [==============================] - 2s 11ms/step - loss: 0.0280 - accuracy: 0.9941 - val_loss: 0.2866 - val_accuracy: 0.9437\n",
            "Epoch 111/200\n",
            "213/213 [==============================] - 2s 11ms/step - loss: 0.0224 - accuracy: 0.9953 - val_loss: 0.1606 - val_accuracy: 0.9484\n",
            "Epoch 112/200\n",
            "213/213 [==============================] - 2s 11ms/step - loss: 0.0370 - accuracy: 0.9941 - val_loss: 0.1591 - val_accuracy: 0.9437\n",
            "Epoch 113/200\n",
            "213/213 [==============================] - 2s 11ms/step - loss: 0.0032 - accuracy: 0.9988 - val_loss: 0.1934 - val_accuracy: 0.9484\n",
            "Epoch 114/200\n",
            "213/213 [==============================] - 2s 11ms/step - loss: 0.0058 - accuracy: 0.9976 - val_loss: 0.2713 - val_accuracy: 0.9343\n",
            "Epoch 115/200\n",
            "213/213 [==============================] - 2s 11ms/step - loss: 0.0020 - accuracy: 1.0000 - val_loss: 0.1854 - val_accuracy: 0.9484\n",
            "Epoch 116/200\n",
            "213/213 [==============================] - 2s 11ms/step - loss: 0.0101 - accuracy: 0.9953 - val_loss: 0.1964 - val_accuracy: 0.9577\n",
            "Epoch 117/200\n",
            "213/213 [==============================] - 2s 11ms/step - loss: 0.0677 - accuracy: 0.9906 - val_loss: 0.2768 - val_accuracy: 0.9296\n",
            "Epoch 118/200\n",
            "213/213 [==============================] - 2s 11ms/step - loss: 0.0521 - accuracy: 0.9824 - val_loss: 0.3570 - val_accuracy: 0.9296\n",
            "Epoch 119/200\n",
            "213/213 [==============================] - 2s 11ms/step - loss: 0.0329 - accuracy: 0.9882 - val_loss: 0.2256 - val_accuracy: 0.9343\n",
            "Epoch 120/200\n",
            "213/213 [==============================] - 2s 11ms/step - loss: 0.0069 - accuracy: 0.9965 - val_loss: 0.1742 - val_accuracy: 0.9484\n",
            "Epoch 121/200\n",
            "213/213 [==============================] - 2s 11ms/step - loss: 0.0369 - accuracy: 0.9906 - val_loss: 0.2111 - val_accuracy: 0.9484\n",
            "Epoch 122/200\n",
            "213/213 [==============================] - 2s 11ms/step - loss: 0.0071 - accuracy: 0.9976 - val_loss: 0.2182 - val_accuracy: 0.9531\n",
            "Epoch 123/200\n",
            "213/213 [==============================] - 2s 11ms/step - loss: 0.0020 - accuracy: 0.9988 - val_loss: 0.2261 - val_accuracy: 0.9390\n",
            "Epoch 124/200\n",
            "213/213 [==============================] - 2s 11ms/step - loss: 0.0015 - accuracy: 1.0000 - val_loss: 0.3682 - val_accuracy: 0.9296\n",
            "Epoch 125/200\n",
            "213/213 [==============================] - 2s 11ms/step - loss: 0.0017 - accuracy: 1.0000 - val_loss: 0.2614 - val_accuracy: 0.9437\n",
            "Epoch 126/200\n",
            "213/213 [==============================] - 2s 11ms/step - loss: 0.0041 - accuracy: 0.9976 - val_loss: 0.7446 - val_accuracy: 0.9014\n",
            "Epoch 127/200\n",
            "213/213 [==============================] - 2s 11ms/step - loss: 0.0368 - accuracy: 0.9941 - val_loss: 0.5085 - val_accuracy: 0.9343\n",
            "Epoch 128/200\n",
            "213/213 [==============================] - 2s 11ms/step - loss: 0.0859 - accuracy: 0.9835 - val_loss: 0.4456 - val_accuracy: 0.8967\n",
            "Epoch 129/200\n",
            "213/213 [==============================] - 2s 11ms/step - loss: 0.0182 - accuracy: 0.9941 - val_loss: 0.3594 - val_accuracy: 0.9296\n",
            "Epoch 130/200\n",
            "213/213 [==============================] - 2s 11ms/step - loss: 0.0036 - accuracy: 0.9988 - val_loss: 0.3731 - val_accuracy: 0.9296\n",
            "Epoch 131/200\n",
            "213/213 [==============================] - 2s 11ms/step - loss: 0.0316 - accuracy: 0.9953 - val_loss: 0.3019 - val_accuracy: 0.9296\n",
            "Epoch 132/200\n",
            "213/213 [==============================] - 2s 11ms/step - loss: 0.0777 - accuracy: 0.9859 - val_loss: 0.2086 - val_accuracy: 0.9343\n",
            "Epoch 133/200\n",
            "213/213 [==============================] - 2s 11ms/step - loss: 0.0093 - accuracy: 0.9976 - val_loss: 0.1504 - val_accuracy: 0.9577\n",
            "Epoch 134/200\n",
            "213/213 [==============================] - 2s 11ms/step - loss: 0.0021 - accuracy: 1.0000 - val_loss: 0.2347 - val_accuracy: 0.9437\n",
            "Epoch 135/200\n",
            "213/213 [==============================] - 2s 11ms/step - loss: 0.0039 - accuracy: 0.9976 - val_loss: 0.1683 - val_accuracy: 0.9531\n",
            "Epoch 136/200\n",
            "213/213 [==============================] - 2s 11ms/step - loss: 0.0052 - accuracy: 0.9976 - val_loss: 0.2846 - val_accuracy: 0.9296\n",
            "Epoch 137/200\n",
            "213/213 [==============================] - 2s 11ms/step - loss: 0.1050 - accuracy: 0.9812 - val_loss: 0.4290 - val_accuracy: 0.8826\n",
            "Epoch 138/200\n",
            "213/213 [==============================] - 2s 11ms/step - loss: 0.0580 - accuracy: 0.9824 - val_loss: 0.3292 - val_accuracy: 0.9249\n",
            "Epoch 139/200\n",
            "213/213 [==============================] - 2s 11ms/step - loss: 0.0103 - accuracy: 0.9976 - val_loss: 0.2447 - val_accuracy: 0.9296\n",
            "Epoch 140/200\n",
            "213/213 [==============================] - 2s 11ms/step - loss: 0.0175 - accuracy: 0.9941 - val_loss: 0.2801 - val_accuracy: 0.9343\n",
            "Epoch 141/200\n",
            "213/213 [==============================] - 2s 11ms/step - loss: 0.0142 - accuracy: 0.9965 - val_loss: 0.3015 - val_accuracy: 0.9390\n",
            "Epoch 142/200\n",
            "213/213 [==============================] - 2s 11ms/step - loss: 0.0578 - accuracy: 0.9894 - val_loss: 0.1209 - val_accuracy: 0.9671\n",
            "Epoch 143/200\n",
            "213/213 [==============================] - 2s 11ms/step - loss: 0.0202 - accuracy: 0.9918 - val_loss: 0.1849 - val_accuracy: 0.9577\n",
            "Epoch 144/200\n",
            "213/213 [==============================] - 2s 11ms/step - loss: 0.0101 - accuracy: 0.9953 - val_loss: 0.1699 - val_accuracy: 0.9671\n",
            "Epoch 145/200\n",
            "213/213 [==============================] - 2s 11ms/step - loss: 0.0037 - accuracy: 0.9988 - val_loss: 0.2193 - val_accuracy: 0.9577\n",
            "Epoch 146/200\n",
            "213/213 [==============================] - 2s 11ms/step - loss: 0.0039 - accuracy: 0.9976 - val_loss: 0.1452 - val_accuracy: 0.9624\n",
            "Epoch 147/200\n",
            "213/213 [==============================] - 2s 11ms/step - loss: 0.0074 - accuracy: 0.9976 - val_loss: 0.2028 - val_accuracy: 0.9484\n",
            "Epoch 148/200\n",
            "213/213 [==============================] - 2s 11ms/step - loss: 0.0115 - accuracy: 0.9976 - val_loss: 0.2336 - val_accuracy: 0.9531\n",
            "Epoch 149/200\n",
            "213/213 [==============================] - 2s 11ms/step - loss: 0.0604 - accuracy: 0.9918 - val_loss: 0.2642 - val_accuracy: 0.9437\n",
            "Epoch 150/200\n",
            "213/213 [==============================] - 2s 11ms/step - loss: 0.0110 - accuracy: 0.9976 - val_loss: 0.3945 - val_accuracy: 0.9343\n",
            "Epoch 151/200\n",
            "213/213 [==============================] - 2s 11ms/step - loss: 0.0297 - accuracy: 0.9906 - val_loss: 0.8434 - val_accuracy: 0.8920\n",
            "Epoch 152/200\n",
            "213/213 [==============================] - 2s 11ms/step - loss: 0.0558 - accuracy: 0.9941 - val_loss: 0.2215 - val_accuracy: 0.9624\n",
            "Epoch 153/200\n",
            "213/213 [==============================] - 2s 11ms/step - loss: 0.0166 - accuracy: 0.9976 - val_loss: 0.2060 - val_accuracy: 0.9390\n",
            "Epoch 154/200\n",
            "213/213 [==============================] - 2s 11ms/step - loss: 0.0010 - accuracy: 1.0000 - val_loss: 0.2071 - val_accuracy: 0.9484\n",
            "Epoch 155/200\n",
            "213/213 [==============================] - 2s 11ms/step - loss: 0.0107 - accuracy: 0.9965 - val_loss: 0.2532 - val_accuracy: 0.9390\n",
            "Epoch 156/200\n",
            "213/213 [==============================] - 2s 11ms/step - loss: 0.0108 - accuracy: 0.9965 - val_loss: 0.2622 - val_accuracy: 0.9390\n",
            "Epoch 157/200\n",
            "213/213 [==============================] - 2s 11ms/step - loss: 0.0017 - accuracy: 1.0000 - val_loss: 0.2539 - val_accuracy: 0.9484\n",
            "Epoch 158/200\n",
            "213/213 [==============================] - 2s 11ms/step - loss: 7.2839e-04 - accuracy: 1.0000 - val_loss: 0.2676 - val_accuracy: 0.9390\n",
            "Epoch 159/200\n",
            "213/213 [==============================] - 2s 11ms/step - loss: 0.0299 - accuracy: 0.9918 - val_loss: 0.1961 - val_accuracy: 0.9249\n",
            "Epoch 160/200\n",
            "213/213 [==============================] - 2s 11ms/step - loss: 0.0318 - accuracy: 0.9894 - val_loss: 0.1218 - val_accuracy: 0.9577\n",
            "Epoch 161/200\n",
            "213/213 [==============================] - 2s 11ms/step - loss: 0.0249 - accuracy: 0.9941 - val_loss: 0.2089 - val_accuracy: 0.9577\n",
            "Epoch 162/200\n",
            "213/213 [==============================] - 2s 11ms/step - loss: 0.0041 - accuracy: 0.9976 - val_loss: 0.2893 - val_accuracy: 0.9390\n",
            "Epoch 163/200\n",
            "213/213 [==============================] - 2s 11ms/step - loss: 0.0024 - accuracy: 0.9988 - val_loss: 0.2918 - val_accuracy: 0.9484\n",
            "Epoch 164/200\n",
            "213/213 [==============================] - 2s 11ms/step - loss: 0.0243 - accuracy: 0.9953 - val_loss: 0.5766 - val_accuracy: 0.9014\n",
            "Epoch 165/200\n",
            "213/213 [==============================] - 2s 11ms/step - loss: 0.0596 - accuracy: 0.9835 - val_loss: 0.4555 - val_accuracy: 0.9202\n",
            "Epoch 166/200\n",
            "213/213 [==============================] - 2s 11ms/step - loss: 0.0437 - accuracy: 0.9894 - val_loss: 0.2130 - val_accuracy: 0.9531\n",
            "Epoch 167/200\n",
            "213/213 [==============================] - 2s 11ms/step - loss: 0.0135 - accuracy: 0.9965 - val_loss: 0.1528 - val_accuracy: 0.9671\n",
            "Epoch 168/200\n",
            "213/213 [==============================] - 2s 11ms/step - loss: 0.0014 - accuracy: 0.9988 - val_loss: 0.1528 - val_accuracy: 0.9531\n",
            "Epoch 169/200\n",
            "213/213 [==============================] - 2s 11ms/step - loss: 0.0028 - accuracy: 0.9988 - val_loss: 0.2377 - val_accuracy: 0.9390\n",
            "Epoch 170/200\n",
            "213/213 [==============================] - 2s 11ms/step - loss: 0.0020 - accuracy: 0.9988 - val_loss: 0.1874 - val_accuracy: 0.9484\n",
            "Epoch 171/200\n",
            "213/213 [==============================] - 2s 11ms/step - loss: 0.0038 - accuracy: 0.9988 - val_loss: 0.1242 - val_accuracy: 0.9671\n",
            "Epoch 172/200\n",
            "213/213 [==============================] - 2s 11ms/step - loss: 0.0397 - accuracy: 0.9941 - val_loss: 0.2111 - val_accuracy: 0.9484\n",
            "Epoch 173/200\n",
            "213/213 [==============================] - 2s 11ms/step - loss: 0.0183 - accuracy: 0.9906 - val_loss: 0.2216 - val_accuracy: 0.9390\n",
            "Epoch 174/200\n",
            "213/213 [==============================] - 2s 11ms/step - loss: 0.0162 - accuracy: 0.9965 - val_loss: 0.1478 - val_accuracy: 0.9624\n",
            "Epoch 175/200\n",
            "213/213 [==============================] - 2s 11ms/step - loss: 0.0169 - accuracy: 0.9941 - val_loss: 0.3882 - val_accuracy: 0.9390\n",
            "Epoch 176/200\n",
            "213/213 [==============================] - 2s 12ms/step - loss: 0.0662 - accuracy: 0.9882 - val_loss: 0.1543 - val_accuracy: 0.9577\n",
            "Epoch 177/200\n",
            "213/213 [==============================] - 2s 11ms/step - loss: 0.0066 - accuracy: 0.9965 - val_loss: 0.1955 - val_accuracy: 0.9624\n",
            "Epoch 178/200\n",
            "213/213 [==============================] - 2s 11ms/step - loss: 0.0029 - accuracy: 0.9988 - val_loss: 0.2009 - val_accuracy: 0.9671\n",
            "Epoch 179/200\n",
            "213/213 [==============================] - 2s 11ms/step - loss: 0.0211 - accuracy: 0.9918 - val_loss: 0.2190 - val_accuracy: 0.9577\n",
            "Epoch 180/200\n",
            "213/213 [==============================] - 2s 11ms/step - loss: 0.0336 - accuracy: 0.9918 - val_loss: 0.1677 - val_accuracy: 0.9624\n",
            "Epoch 181/200\n",
            "213/213 [==============================] - 2s 12ms/step - loss: 0.0155 - accuracy: 0.9953 - val_loss: 0.1467 - val_accuracy: 0.9718\n",
            "Epoch 182/200\n",
            "213/213 [==============================] - 2s 11ms/step - loss: 0.0050 - accuracy: 0.9976 - val_loss: 0.1810 - val_accuracy: 0.9718\n",
            "Epoch 183/200\n",
            "213/213 [==============================] - 2s 11ms/step - loss: 0.0022 - accuracy: 1.0000 - val_loss: 0.1729 - val_accuracy: 0.9671\n",
            "Epoch 184/200\n",
            "213/213 [==============================] - 2s 11ms/step - loss: 0.0037 - accuracy: 0.9988 - val_loss: 0.2918 - val_accuracy: 0.9484\n",
            "Epoch 185/200\n",
            "213/213 [==============================] - 2s 11ms/step - loss: 4.3878e-04 - accuracy: 1.0000 - val_loss: 0.2711 - val_accuracy: 0.9531\n",
            "Epoch 186/200\n",
            "213/213 [==============================] - 2s 11ms/step - loss: 0.0039 - accuracy: 0.9988 - val_loss: 0.3008 - val_accuracy: 0.9437\n",
            "Epoch 187/200\n",
            "213/213 [==============================] - 2s 11ms/step - loss: 0.0622 - accuracy: 0.9835 - val_loss: 0.1226 - val_accuracy: 0.9624\n",
            "Epoch 188/200\n",
            "213/213 [==============================] - 2s 12ms/step - loss: 0.0225 - accuracy: 0.9894 - val_loss: 0.3463 - val_accuracy: 0.9531\n",
            "Epoch 189/200\n",
            "213/213 [==============================] - 2s 11ms/step - loss: 0.0138 - accuracy: 0.9965 - val_loss: 0.4405 - val_accuracy: 0.9343\n",
            "Epoch 190/200\n",
            "213/213 [==============================] - 2s 11ms/step - loss: 0.0690 - accuracy: 0.9859 - val_loss: 0.1046 - val_accuracy: 0.9671\n",
            "Epoch 191/200\n",
            "213/213 [==============================] - 2s 11ms/step - loss: 0.0222 - accuracy: 0.9953 - val_loss: 0.2606 - val_accuracy: 0.9437\n",
            "Epoch 192/200\n",
            "213/213 [==============================] - 2s 11ms/step - loss: 0.0144 - accuracy: 0.9976 - val_loss: 0.3016 - val_accuracy: 0.9484\n",
            "Epoch 193/200\n",
            "213/213 [==============================] - 2s 11ms/step - loss: 0.0069 - accuracy: 0.9965 - val_loss: 0.3922 - val_accuracy: 0.9390\n",
            "Epoch 194/200\n",
            "213/213 [==============================] - 2s 11ms/step - loss: 0.0179 - accuracy: 0.9976 - val_loss: 0.3299 - val_accuracy: 0.9202\n",
            "Epoch 195/200\n",
            "213/213 [==============================] - 2s 11ms/step - loss: 0.0018 - accuracy: 0.9988 - val_loss: 0.3500 - val_accuracy: 0.9202\n",
            "Epoch 196/200\n",
            "213/213 [==============================] - 2s 11ms/step - loss: 0.0240 - accuracy: 0.9941 - val_loss: 0.3210 - val_accuracy: 0.9296\n",
            "Epoch 197/200\n",
            "213/213 [==============================] - 2s 11ms/step - loss: 0.0031 - accuracy: 0.9976 - val_loss: 0.2893 - val_accuracy: 0.9343\n",
            "Epoch 198/200\n",
            "213/213 [==============================] - 2s 11ms/step - loss: 0.0014 - accuracy: 1.0000 - val_loss: 0.2740 - val_accuracy: 0.9343\n",
            "Epoch 199/200\n",
            "213/213 [==============================] - 2s 11ms/step - loss: 0.0060 - accuracy: 0.9953 - val_loss: 0.2099 - val_accuracy: 0.9390\n",
            "Epoch 200/200\n",
            "213/213 [==============================] - 2s 11ms/step - loss: 0.0012 - accuracy: 1.0000 - val_loss: 0.1796 - val_accuracy: 0.9577\n"
          ]
        }
      ]
    },
    {
      "cell_type": "code",
      "metadata": {
        "id": "6cuoyXSJL6VC",
        "outputId": "902d9607-9ef3-4d76-83bf-f51ab27ef223",
        "colab": {
          "base_uri": "https://localhost:8080/"
        }
      },
      "source": [
        "from sklearn.metrics import classification_report\n",
        "import numpy as np\n",
        "\n",
        "y_pred = np.around(model.predict(X_test))\n",
        "rep = classification_report(Y_test, y_pred)\n",
        "print(rep)"
      ],
      "execution_count": 24,
      "outputs": [
        {
          "output_type": "stream",
          "name": "stdout",
          "text": [
            "              precision    recall  f1-score   support\n",
            "\n",
            "         0.0       0.93      0.99      0.96       107\n",
            "         1.0       0.99      0.92      0.96       106\n",
            "\n",
            "    accuracy                           0.96       213\n",
            "   macro avg       0.96      0.96      0.96       213\n",
            "weighted avg       0.96      0.96      0.96       213\n",
            "\n"
          ]
        }
      ]
    }
  ]
}