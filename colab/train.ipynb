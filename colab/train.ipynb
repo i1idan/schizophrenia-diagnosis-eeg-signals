{
  "cells": [
    {
      "cell_type": "markdown",
      "metadata": {
        "id": "view-in-github",
        "colab_type": "text"
      },
      "source": [
        "<a href=\"https://colab.research.google.com/github/i1idan/schizophrenia-diagnosis-eeg-signals/blob/main/colab/train.ipynb\" target=\"_parent\"><img src=\"https://colab.research.google.com/assets/colab-badge.svg\" alt=\"Open In Colab\"/></a>"
      ]
    },
    {
      "cell_type": "code",
      "source": [
        "from google.colab import drive\n",
        "drive.mount('/content/drive')"
      ],
      "metadata": {
        "colab": {
          "base_uri": "https://localhost:8080/"
        },
        "id": "B7YlhS4gYc8s",
        "outputId": "7ed228ec-718f-43ae-bf46-9511ead2581e"
      },
      "id": "B7YlhS4gYc8s",
      "execution_count": 2,
      "outputs": [
        {
          "output_type": "stream",
          "name": "stdout",
          "text": [
            "Mounted at /content/drive\n"
          ]
        }
      ]
    },
    {
      "cell_type": "markdown",
      "source": [
        "# Clone the Repository"
      ],
      "metadata": {
        "id": "FB7LuLHBlpvM"
      },
      "id": "FB7LuLHBlpvM"
    },
    {
      "cell_type": "code",
      "execution_count": 8,
      "id": "0d35c532",
      "metadata": {
        "colab": {
          "base_uri": "https://localhost:8080/"
        },
        "id": "0d35c532",
        "outputId": "cb3b1d58-fdfb-48f5-9fa6-dadc8a12fc24"
      },
      "outputs": [
        {
          "output_type": "stream",
          "name": "stdout",
          "text": [
            "Cloning into 'schizophrenia-diagnosis-eeg-signals'...\n",
            "remote: Enumerating objects: 60, done.\u001b[K\n",
            "remote: Counting objects: 100% (60/60), done.\u001b[K\n",
            "remote: Compressing objects: 100% (44/44), done.\u001b[K\n",
            "remote: Total 60 (delta 22), reused 45 (delta 13), pack-reused 0\u001b[K\n",
            "Unpacking objects: 100% (60/60), done.\n"
          ]
        }
      ],
      "source": [
        "!git clone https://github.com/i1idan/schizophrenia-diagnosis-eeg-signals.git"
      ]
    },
    {
      "cell_type": "code",
      "source": [
        "import os\n",
        "os.chdir('/content/schizophrenia-diagnosis-eeg-signals')\n",
        "!git pull origin main"
      ],
      "metadata": {
        "colab": {
          "base_uri": "https://localhost:8080/"
        },
        "id": "6X3Blwu5ZKWq",
        "outputId": "77e2207f-1941-4df9-d692-dd19d7811671"
      },
      "id": "6X3Blwu5ZKWq",
      "execution_count": 9,
      "outputs": [
        {
          "output_type": "stream",
          "name": "stdout",
          "text": [
            "From https://github.com/i1idan/schizophrenia-diagnosis-eeg-signals\n",
            " * branch            main       -> FETCH_HEAD\n",
            "Already up to date.\n"
          ]
        }
      ]
    },
    {
      "cell_type": "markdown",
      "source": [
        "# Install Requirements"
      ],
      "metadata": {
        "id": "pfZzZofyZVB_"
      },
      "id": "pfZzZofyZVB_"
    },
    {
      "cell_type": "code",
      "source": [
        "!pip install -r requirements.txt"
      ],
      "metadata": {
        "colab": {
          "base_uri": "https://localhost:8080/"
        },
        "id": "f3uUKOYfZUiA",
        "outputId": "1e927faf-42ef-421a-f8e8-7d640bfb6b07"
      },
      "id": "f3uUKOYfZUiA",
      "execution_count": 10,
      "outputs": [
        {
          "output_type": "stream",
          "name": "stdout",
          "text": [
            "Requirement already satisfied: tensorflow==2.7.0 in /usr/local/lib/python3.7/dist-packages (from -r requirements.txt (line 1)) (2.7.0)\n",
            "Requirement already satisfied: deep_utils==0.8.9 in /usr/local/lib/python3.7/dist-packages (from -r requirements.txt (line 2)) (0.8.9)\n",
            "Requirement already satisfied: pyts==0.12.0 in /usr/local/lib/python3.7/dist-packages (from -r requirements.txt (line 3)) (0.12.0)\n",
            "Requirement already satisfied: opt-einsum>=2.3.2 in /usr/local/lib/python3.7/dist-packages (from tensorflow==2.7.0->-r requirements.txt (line 1)) (3.3.0)\n",
            "Requirement already satisfied: wrapt>=1.11.0 in /usr/local/lib/python3.7/dist-packages (from tensorflow==2.7.0->-r requirements.txt (line 1)) (1.13.3)\n",
            "Requirement already satisfied: absl-py>=0.4.0 in /usr/local/lib/python3.7/dist-packages (from tensorflow==2.7.0->-r requirements.txt (line 1)) (0.12.0)\n",
            "Requirement already satisfied: six>=1.12.0 in /usr/local/lib/python3.7/dist-packages (from tensorflow==2.7.0->-r requirements.txt (line 1)) (1.15.0)\n",
            "Requirement already satisfied: tensorflow-io-gcs-filesystem>=0.21.0 in /usr/local/lib/python3.7/dist-packages (from tensorflow==2.7.0->-r requirements.txt (line 1)) (0.22.0)\n",
            "Requirement already satisfied: tensorboard~=2.6 in /usr/local/lib/python3.7/dist-packages (from tensorflow==2.7.0->-r requirements.txt (line 1)) (2.7.0)\n",
            "Requirement already satisfied: grpcio<2.0,>=1.24.3 in /usr/local/lib/python3.7/dist-packages (from tensorflow==2.7.0->-r requirements.txt (line 1)) (1.42.0)\n",
            "Requirement already satisfied: termcolor>=1.1.0 in /usr/local/lib/python3.7/dist-packages (from tensorflow==2.7.0->-r requirements.txt (line 1)) (1.1.0)\n",
            "Requirement already satisfied: numpy>=1.14.5 in /usr/local/lib/python3.7/dist-packages (from tensorflow==2.7.0->-r requirements.txt (line 1)) (1.19.5)\n",
            "Requirement already satisfied: wheel<1.0,>=0.32.0 in /usr/local/lib/python3.7/dist-packages (from tensorflow==2.7.0->-r requirements.txt (line 1)) (0.37.0)\n",
            "Requirement already satisfied: flatbuffers<3.0,>=1.12 in /usr/local/lib/python3.7/dist-packages (from tensorflow==2.7.0->-r requirements.txt (line 1)) (2.0)\n",
            "Requirement already satisfied: tensorflow-estimator<2.8,~=2.7.0rc0 in /usr/local/lib/python3.7/dist-packages (from tensorflow==2.7.0->-r requirements.txt (line 1)) (2.7.0)\n",
            "Requirement already satisfied: typing-extensions>=3.6.6 in /usr/local/lib/python3.7/dist-packages (from tensorflow==2.7.0->-r requirements.txt (line 1)) (3.10.0.2)\n",
            "Requirement already satisfied: keras-preprocessing>=1.1.1 in /usr/local/lib/python3.7/dist-packages (from tensorflow==2.7.0->-r requirements.txt (line 1)) (1.1.2)\n",
            "Requirement already satisfied: libclang>=9.0.1 in /usr/local/lib/python3.7/dist-packages (from tensorflow==2.7.0->-r requirements.txt (line 1)) (12.0.0)\n",
            "Requirement already satisfied: google-pasta>=0.1.1 in /usr/local/lib/python3.7/dist-packages (from tensorflow==2.7.0->-r requirements.txt (line 1)) (0.2.0)\n",
            "Requirement already satisfied: protobuf>=3.9.2 in /usr/local/lib/python3.7/dist-packages (from tensorflow==2.7.0->-r requirements.txt (line 1)) (3.17.3)\n",
            "Requirement already satisfied: gast<0.5.0,>=0.2.1 in /usr/local/lib/python3.7/dist-packages (from tensorflow==2.7.0->-r requirements.txt (line 1)) (0.4.0)\n",
            "Requirement already satisfied: h5py>=2.9.0 in /usr/local/lib/python3.7/dist-packages (from tensorflow==2.7.0->-r requirements.txt (line 1)) (3.1.0)\n",
            "Requirement already satisfied: astunparse>=1.6.0 in /usr/local/lib/python3.7/dist-packages (from tensorflow==2.7.0->-r requirements.txt (line 1)) (1.6.3)\n",
            "Requirement already satisfied: keras<2.8,>=2.7.0rc0 in /usr/local/lib/python3.7/dist-packages (from tensorflow==2.7.0->-r requirements.txt (line 1)) (2.7.0)\n",
            "Requirement already satisfied: opencv-python in /usr/local/lib/python3.7/dist-packages (from deep_utils==0.8.9->-r requirements.txt (line 2)) (4.1.2.30)\n",
            "Requirement already satisfied: tqdm in /usr/local/lib/python3.7/dist-packages (from deep_utils==0.8.9->-r requirements.txt (line 2)) (4.62.3)\n",
            "Requirement already satisfied: requests in /usr/local/lib/python3.7/dist-packages (from deep_utils==0.8.9->-r requirements.txt (line 2)) (2.23.0)\n",
            "Requirement already satisfied: scipy>=1.3.0 in /usr/local/lib/python3.7/dist-packages (from pyts==0.12.0->-r requirements.txt (line 3)) (1.4.1)\n",
            "Requirement already satisfied: numba>=0.48.0 in /usr/local/lib/python3.7/dist-packages (from pyts==0.12.0->-r requirements.txt (line 3)) (0.51.2)\n",
            "Requirement already satisfied: joblib>=0.12 in /usr/local/lib/python3.7/dist-packages (from pyts==0.12.0->-r requirements.txt (line 3)) (1.1.0)\n",
            "Requirement already satisfied: scikit-learn>=0.22.1 in /usr/local/lib/python3.7/dist-packages (from pyts==0.12.0->-r requirements.txt (line 3)) (1.0.1)\n",
            "Requirement already satisfied: cached-property in /usr/local/lib/python3.7/dist-packages (from h5py>=2.9.0->tensorflow==2.7.0->-r requirements.txt (line 1)) (1.5.2)\n",
            "Requirement already satisfied: llvmlite<0.35,>=0.34.0.dev0 in /usr/local/lib/python3.7/dist-packages (from numba>=0.48.0->pyts==0.12.0->-r requirements.txt (line 3)) (0.34.0)\n",
            "Requirement already satisfied: setuptools in /usr/local/lib/python3.7/dist-packages (from numba>=0.48.0->pyts==0.12.0->-r requirements.txt (line 3)) (57.4.0)\n",
            "Requirement already satisfied: threadpoolctl>=2.0.0 in /usr/local/lib/python3.7/dist-packages (from scikit-learn>=0.22.1->pyts==0.12.0->-r requirements.txt (line 3)) (3.0.0)\n",
            "Requirement already satisfied: werkzeug>=0.11.15 in /usr/local/lib/python3.7/dist-packages (from tensorboard~=2.6->tensorflow==2.7.0->-r requirements.txt (line 1)) (1.0.1)\n",
            "Requirement already satisfied: google-auth<3,>=1.6.3 in /usr/local/lib/python3.7/dist-packages (from tensorboard~=2.6->tensorflow==2.7.0->-r requirements.txt (line 1)) (1.35.0)\n",
            "Requirement already satisfied: tensorboard-data-server<0.7.0,>=0.6.0 in /usr/local/lib/python3.7/dist-packages (from tensorboard~=2.6->tensorflow==2.7.0->-r requirements.txt (line 1)) (0.6.1)\n",
            "Requirement already satisfied: google-auth-oauthlib<0.5,>=0.4.1 in /usr/local/lib/python3.7/dist-packages (from tensorboard~=2.6->tensorflow==2.7.0->-r requirements.txt (line 1)) (0.4.6)\n",
            "Requirement already satisfied: tensorboard-plugin-wit>=1.6.0 in /usr/local/lib/python3.7/dist-packages (from tensorboard~=2.6->tensorflow==2.7.0->-r requirements.txt (line 1)) (1.8.0)\n",
            "Requirement already satisfied: markdown>=2.6.8 in /usr/local/lib/python3.7/dist-packages (from tensorboard~=2.6->tensorflow==2.7.0->-r requirements.txt (line 1)) (3.3.6)\n",
            "Requirement already satisfied: rsa<5,>=3.1.4 in /usr/local/lib/python3.7/dist-packages (from google-auth<3,>=1.6.3->tensorboard~=2.6->tensorflow==2.7.0->-r requirements.txt (line 1)) (4.8)\n",
            "Requirement already satisfied: pyasn1-modules>=0.2.1 in /usr/local/lib/python3.7/dist-packages (from google-auth<3,>=1.6.3->tensorboard~=2.6->tensorflow==2.7.0->-r requirements.txt (line 1)) (0.2.8)\n",
            "Requirement already satisfied: cachetools<5.0,>=2.0.0 in /usr/local/lib/python3.7/dist-packages (from google-auth<3,>=1.6.3->tensorboard~=2.6->tensorflow==2.7.0->-r requirements.txt (line 1)) (4.2.4)\n",
            "Requirement already satisfied: requests-oauthlib>=0.7.0 in /usr/local/lib/python3.7/dist-packages (from google-auth-oauthlib<0.5,>=0.4.1->tensorboard~=2.6->tensorflow==2.7.0->-r requirements.txt (line 1)) (1.3.0)\n",
            "Requirement already satisfied: importlib-metadata>=4.4 in /usr/local/lib/python3.7/dist-packages (from markdown>=2.6.8->tensorboard~=2.6->tensorflow==2.7.0->-r requirements.txt (line 1)) (4.8.2)\n",
            "Requirement already satisfied: zipp>=0.5 in /usr/local/lib/python3.7/dist-packages (from importlib-metadata>=4.4->markdown>=2.6.8->tensorboard~=2.6->tensorflow==2.7.0->-r requirements.txt (line 1)) (3.6.0)\n",
            "Requirement already satisfied: pyasn1<0.5.0,>=0.4.6 in /usr/local/lib/python3.7/dist-packages (from pyasn1-modules>=0.2.1->google-auth<3,>=1.6.3->tensorboard~=2.6->tensorflow==2.7.0->-r requirements.txt (line 1)) (0.4.8)\n",
            "Requirement already satisfied: idna<3,>=2.5 in /usr/local/lib/python3.7/dist-packages (from requests->deep_utils==0.8.9->-r requirements.txt (line 2)) (2.10)\n",
            "Requirement already satisfied: chardet<4,>=3.0.2 in /usr/local/lib/python3.7/dist-packages (from requests->deep_utils==0.8.9->-r requirements.txt (line 2)) (3.0.4)\n",
            "Requirement already satisfied: certifi>=2017.4.17 in /usr/local/lib/python3.7/dist-packages (from requests->deep_utils==0.8.9->-r requirements.txt (line 2)) (2021.10.8)\n",
            "Requirement already satisfied: urllib3!=1.25.0,!=1.25.1,<1.26,>=1.21.1 in /usr/local/lib/python3.7/dist-packages (from requests->deep_utils==0.8.9->-r requirements.txt (line 2)) (1.24.3)\n",
            "Requirement already satisfied: oauthlib>=3.0.0 in /usr/local/lib/python3.7/dist-packages (from requests-oauthlib>=0.7.0->google-auth-oauthlib<0.5,>=0.4.1->tensorboard~=2.6->tensorflow==2.7.0->-r requirements.txt (line 1)) (3.1.1)\n"
          ]
        }
      ]
    },
    {
      "cell_type": "markdown",
      "source": [
        "# Get Data"
      ],
      "metadata": {
        "id": "lCirzbPuZyuQ"
      },
      "id": "lCirzbPuZyuQ"
    },
    {
      "cell_type": "code",
      "source": [
        "!gdown --id 1jnWHWrArzJQIvny0cQkfPP42hEJAp_56\n",
        "!mv DATA.mat /content/schizophrenia-diagnosis-eeg-signals/data/DATA.mat"
      ],
      "metadata": {
        "colab": {
          "base_uri": "https://localhost:8080/"
        },
        "id": "tsJQv-K5Z0k-",
        "outputId": "87b9103c-18b2-4af4-ab91-2797b4e663e3"
      },
      "id": "tsJQv-K5Z0k-",
      "execution_count": 11,
      "outputs": [
        {
          "output_type": "stream",
          "name": "stdout",
          "text": [
            "Downloading...\n",
            "From: https://drive.google.com/uc?id=1jnWHWrArzJQIvny0cQkfPP42hEJAp_56\n",
            "To: /content/schizophrenia-diagnosis-eeg-signals/DATA.mat\n",
            "100% 299M/299M [00:02<00:00, 117MB/s]\n"
          ]
        }
      ]
    },
    {
      "cell_type": "markdown",
      "id": "4130c324",
      "metadata": {
        "id": "4130c324"
      },
      "source": [
        "# Training Models"
      ]
    },
    {
      "cell_type": "code",
      "execution_count": 12,
      "id": "98c9e21c",
      "metadata": {
        "id": "98c9e21c"
      },
      "outputs": [],
      "source": [
        "# Number of training in a sequence\n",
        "multi_train = 10\n",
        "epochs = 200\n",
        "model_name = \"FFTCustom\"\n",
        "data_path = \"./data/DATA.mat\"\n",
        "checkpoints = \"/content/drive/MyDrive/schizophrenia/checkpoints\"\n",
        "batch_size = 4\n",
        "early_stopping = 100\n",
        "reduce_lr = 50\n",
        "seed = 1234"
      ]
    },
    {
      "cell_type": "code",
      "execution_count": null,
      "id": "4bf6ef6b",
      "metadata": {
        "scrolled": true,
        "colab": {
          "base_uri": "https://localhost:8080/"
        },
        "id": "4bf6ef6b",
        "outputId": "87919b59-9c9b-4601-d6a1-c93a5e63b286"
      },
      "outputs": [
        {
          "output_type": "stream",
          "name": "stdout",
          "text": [
            "[INFO] Model:FFTCustom is loaded ...\n",
            "Model: \"sequential\"\n",
            "_________________________________________________________________\n",
            " Layer (type)                Output Shape              Param #   \n",
            "=================================================================\n",
            " conv2d (Conv2D)             (None, 110, 110, 8)       80        \n",
            "                                                                 \n",
            " conv2d_1 (Conv2D)           (None, 109, 109, 8)       264       \n",
            "                                                                 \n",
            " max_pooling2d (MaxPooling2D  (None, 54, 54, 8)        0         \n",
            " )                                                               \n",
            "                                                                 \n",
            " dropout (Dropout)           (None, 54, 54, 8)         0         \n",
            "                                                                 \n",
            " conv2d_2 (Conv2D)           (None, 53, 53, 16)        528       \n",
            "                                                                 \n",
            " conv2d_3 (Conv2D)           (None, 52, 52, 16)        1040      \n",
            "                                                                 \n",
            " max_pooling2d_1 (MaxPooling  (None, 26, 26, 16)       0         \n",
            " 2D)                                                             \n",
            "                                                                 \n",
            " conv2d_4 (Conv2D)           (None, 25, 25, 32)        2080      \n",
            "                                                                 \n",
            " conv2d_5 (Conv2D)           (None, 24, 24, 32)        4128      \n",
            "                                                                 \n",
            " lambda (Lambda)             (None, 24, 24, 32)        0         \n",
            "                                                                 \n",
            " dropout_1 (Dropout)         (None, 24, 24, 32)        0         \n",
            "                                                                 \n",
            " conv2d_6 (Conv2D)           (None, 23, 23, 64)        8256      \n",
            "                                                                 \n",
            " dropout_2 (Dropout)         (None, 23, 23, 64)        0         \n",
            "                                                                 \n",
            " flatten (Flatten)           (None, 33856)             0         \n",
            "                                                                 \n",
            " dropout_3 (Dropout)         (None, 33856)             0         \n",
            "                                                                 \n",
            " dense (Dense)               (None, 32)                1083424   \n",
            "                                                                 \n",
            " dense_1 (Dense)             (None, 1)                 33        \n",
            "                                                                 \n",
            "=================================================================\n",
            "Total params: 1,099,833\n",
            "Trainable params: 1,099,833\n",
            "Non-trainable params: 0\n",
            "_________________________________________________________________\n",
            "[INFO] H.shape: (14,), each sample has (channels, values): (19, 180000) !\n",
            "[INFO] S.shape: (14,), each sample has (channels, values): (19, 180000) !\n",
            "[INFO] S.shape: (14,)\n",
            "[INFO] CHAN.shape: (1, 19)\n",
            "[INFO] Fs.shape: (1, 1)\n",
            "[INFO] healthy_samples: 14, schizo_samples: 14, channel_size: 19, and sub: 15000\n",
            "[INFO] normal samples: (532, 112, 112)\n",
            "[INFO] schizo samples: (532, 112, 112)\n",
            "[INFO] labels: (1064,)\n",
            "[INFO] data: (1064, 112, 112, 1)\n",
            "[INFO] x_train.shape: (851, 112, 112, 1), y_train.shape: (851,)\n",
            "[INFO] x_test.shape: (213, 112, 112, 1), y_test.shape: (213,)\n",
            "[INFO] Started the training for model: FFTCustom ...\n",
            "[INFO] /content/drive/MyDrive/schizophrenia/checkpoints/FFTCustom/0 exists, removing it ...\n",
            "[INFO] Training with the following arguments Namespace(bs=4, checkpoints='/content/drive/MyDrive/schizophrenia/checkpoints', data_path='./data/DATA.mat', dir_name='0', early_stopping=100, epochs=200, model_name='FFTCustom', reduce_lr=50, seed=1235)\n",
            "Epoch 1/200\n",
            "213/213 [==============================] - 15s 25ms/step - loss: 0.7046 - accuracy: 0.5746 - val_loss: 0.6003 - val_accuracy: 0.6573 - lr: 0.0010\n",
            "Epoch 2/200\n",
            "213/213 [==============================] - 2s 11ms/step - loss: 0.5915 - accuracy: 0.6757 - val_loss: 1.0261 - val_accuracy: 0.6056 - lr: 0.0010\n",
            "Epoch 3/200\n",
            "213/213 [==============================] - 2s 11ms/step - loss: 0.5375 - accuracy: 0.7403 - val_loss: 0.8189 - val_accuracy: 0.6479 - lr: 0.0010\n",
            "Epoch 4/200\n",
            "213/213 [==============================] - 2s 11ms/step - loss: 0.4837 - accuracy: 0.7662 - val_loss: 1.1139 - val_accuracy: 0.5305 - lr: 0.0010\n",
            "Epoch 5/200\n",
            "213/213 [==============================] - 5s 22ms/step - loss: 0.4538 - accuracy: 0.7779 - val_loss: 0.4775 - val_accuracy: 0.7465 - lr: 0.0010\n",
            "Epoch 6/200\n",
            "213/213 [==============================] - 2s 11ms/step - loss: 0.4288 - accuracy: 0.7979 - val_loss: 0.5218 - val_accuracy: 0.7371 - lr: 0.0010\n",
            "Epoch 7/200\n",
            "213/213 [==============================] - 4s 21ms/step - loss: 0.4443 - accuracy: 0.7838 - val_loss: 0.4735 - val_accuracy: 0.7793 - lr: 0.0010\n",
            "Epoch 8/200\n",
            "213/213 [==============================] - 2s 11ms/step - loss: 0.3838 - accuracy: 0.8049 - val_loss: 0.7260 - val_accuracy: 0.7183 - lr: 0.0010\n",
            "Epoch 9/200\n",
            "213/213 [==============================] - 2s 12ms/step - loss: 0.3776 - accuracy: 0.8202 - val_loss: 0.4813 - val_accuracy: 0.7512 - lr: 0.0010\n",
            "Epoch 10/200\n",
            "213/213 [==============================] - 2s 11ms/step - loss: 0.3603 - accuracy: 0.8308 - val_loss: 0.5715 - val_accuracy: 0.6995 - lr: 0.0010\n",
            "Epoch 11/200\n",
            "213/213 [==============================] - 2s 12ms/step - loss: 0.3333 - accuracy: 0.8390 - val_loss: 0.5498 - val_accuracy: 0.7324 - lr: 0.0010\n",
            "Epoch 12/200\n",
            "213/213 [==============================] - 2s 11ms/step - loss: 0.3171 - accuracy: 0.8649 - val_loss: 0.5981 - val_accuracy: 0.7089 - lr: 0.0010\n",
            "Epoch 13/200\n",
            "213/213 [==============================] - 2s 11ms/step - loss: 0.2961 - accuracy: 0.8684 - val_loss: 0.7925 - val_accuracy: 0.6667 - lr: 0.0010\n",
            "Epoch 14/200\n",
            "213/213 [==============================] - 5s 22ms/step - loss: 0.2921 - accuracy: 0.8637 - val_loss: 0.3869 - val_accuracy: 0.7887 - lr: 0.0010\n",
            "Epoch 15/200\n",
            "213/213 [==============================] - 2s 11ms/step - loss: 0.2572 - accuracy: 0.8989 - val_loss: 0.5223 - val_accuracy: 0.7418 - lr: 0.0010\n",
            "Epoch 16/200\n",
            "213/213 [==============================] - 2s 11ms/step - loss: 0.2613 - accuracy: 0.8813 - val_loss: 0.5037 - val_accuracy: 0.7559 - lr: 0.0010\n",
            "Epoch 17/200\n",
            "213/213 [==============================] - 2s 11ms/step - loss: 0.2115 - accuracy: 0.9119 - val_loss: 0.5866 - val_accuracy: 0.7653 - lr: 0.0010\n",
            "Epoch 18/200\n",
            "213/213 [==============================] - 5s 22ms/step - loss: 0.2104 - accuracy: 0.9095 - val_loss: 0.3414 - val_accuracy: 0.8310 - lr: 0.0010\n",
            "Epoch 19/200\n",
            "213/213 [==============================] - 2s 11ms/step - loss: 0.2169 - accuracy: 0.9154 - val_loss: 0.4753 - val_accuracy: 0.8075 - lr: 0.0010\n",
            "Epoch 20/200\n",
            "213/213 [==============================] - 2s 12ms/step - loss: 0.1839 - accuracy: 0.9224 - val_loss: 0.4588 - val_accuracy: 0.7887 - lr: 0.0010\n",
            "Epoch 21/200\n",
            "213/213 [==============================] - 2s 12ms/step - loss: 0.1762 - accuracy: 0.9213 - val_loss: 0.4182 - val_accuracy: 0.8310 - lr: 0.0010\n",
            "Epoch 22/200\n",
            "213/213 [==============================] - 2s 11ms/step - loss: 0.1566 - accuracy: 0.9401 - val_loss: 0.4052 - val_accuracy: 0.8498 - lr: 0.0010\n",
            "Epoch 23/200\n",
            "213/213 [==============================] - 2s 11ms/step - loss: 0.1678 - accuracy: 0.9436 - val_loss: 0.3585 - val_accuracy: 0.8357 - lr: 0.0010\n",
            "Epoch 24/200\n",
            "213/213 [==============================] - 2s 11ms/step - loss: 0.1543 - accuracy: 0.9412 - val_loss: 0.3920 - val_accuracy: 0.8451 - lr: 0.0010\n",
            "Epoch 25/200\n",
            "213/213 [==============================] - 2s 11ms/step - loss: 0.1282 - accuracy: 0.9542 - val_loss: 0.4688 - val_accuracy: 0.8216 - lr: 0.0010\n",
            "Epoch 26/200\n",
            "213/213 [==============================] - 2s 12ms/step - loss: 0.0979 - accuracy: 0.9553 - val_loss: 0.4433 - val_accuracy: 0.8169 - lr: 0.0010\n",
            "Epoch 27/200\n",
            "213/213 [==============================] - 2s 12ms/step - loss: 0.1079 - accuracy: 0.9577 - val_loss: 0.4254 - val_accuracy: 0.8357 - lr: 0.0010\n",
            "Epoch 28/200\n",
            "213/213 [==============================] - 2s 11ms/step - loss: 0.1352 - accuracy: 0.9424 - val_loss: 0.4429 - val_accuracy: 0.8592 - lr: 0.0010\n",
            "Epoch 29/200\n",
            "213/213 [==============================] - 2s 11ms/step - loss: 0.0967 - accuracy: 0.9624 - val_loss: 0.5665 - val_accuracy: 0.8310 - lr: 0.0010\n",
            "Epoch 30/200\n",
            "213/213 [==============================] - 2s 11ms/step - loss: 0.0936 - accuracy: 0.9636 - val_loss: 0.4240 - val_accuracy: 0.8592 - lr: 0.0010\n",
            "Epoch 31/200\n",
            "213/213 [==============================] - 2s 11ms/step - loss: 0.1254 - accuracy: 0.9577 - val_loss: 0.5727 - val_accuracy: 0.8028 - lr: 0.0010\n",
            "Epoch 32/200\n",
            "213/213 [==============================] - 2s 11ms/step - loss: 0.0588 - accuracy: 0.9753 - val_loss: 1.0660 - val_accuracy: 0.7136 - lr: 0.0010\n",
            "Epoch 33/200\n",
            "200/213 [===========================>..] - ETA: 0s - loss: 0.1247 - accuracy: 0.9575"
          ]
        }
      ],
      "source": [
        "csv_files = []\n",
        "for n in range(multi_train):\n",
        "    dir_name = f\"{n}\"\n",
        "    seed += 1\n",
        "    !python train.py --model-name $model_name --epochs $epochs --seed $seed --dir-name $dir_name --checkpoints $checkpoints --batch-size $batch_size\n",
        "    print(f\"-----------------------------train {n} is done! ----------------------------------\")"
      ]
    },
    {
      "cell_type": "markdown",
      "id": "0977a1b7",
      "metadata": {
        "id": "0977a1b7"
      },
      "source": [
        "# Get Metrics"
      ]
    },
    {
      "cell_type": "code",
      "execution_count": null,
      "id": "34cf3098",
      "metadata": {
        "id": "34cf3098",
        "outputId": "d581a2c5-f802-4e46-ebdb-8f9220da1b11"
      },
      "outputs": [
        {
          "name": "stdout",
          "output_type": "stream",
          "text": [
            "[INFO] Extracting values from csv files...\n",
            "[INFO] Getting the values of file ./checkpoints/FFTCustom/1/log.csv\n",
            "[INFO] Getting the values of file ./checkpoints/FFTCustom/1/log.csv\n",
            "{'accuracy': {'std': 0.0, 'mean': 0.6498}, 'loss': {'std': 0.0, 'mean': 0.5906}, 'val_accuracy': {'std': 0.0, 'mean': 0.662}, 'val_loss': {'std': 0.0, 'mean': 0.5724}}\n"
          ]
        }
      ],
      "source": [
        "from utils.group_metrics import get_mean_std\n",
        "\n",
        "csv_files = [os.path.join(checkpoints, model_name ,dir_name, \"log.csv\") for n in range(multi_train)]\n",
        "metrics = get_mean_std(csv_files, \n",
        "                       arguments=(\"accuracy\", \"loss\", \"val_accuracy\", \"val_loss\"),\n",
        "                       operators=(max, min, max, min)\n",
        "                      )\n",
        "print(metrics)"
      ]
    },
    {
      "cell_type": "code",
      "execution_count": null,
      "id": "be7e53a2",
      "metadata": {
        "id": "be7e53a2"
      },
      "outputs": [],
      "source": [
        ""
      ]
    }
  ],
  "metadata": {
    "kernelspec": {
      "display_name": "Python 3 (ipykernel)",
      "language": "python",
      "name": "python3"
    },
    "language_info": {
      "codemirror_mode": {
        "name": "ipython",
        "version": 3
      },
      "file_extension": ".py",
      "mimetype": "text/x-python",
      "name": "python",
      "nbconvert_exporter": "python",
      "pygments_lexer": "ipython3",
      "version": "3.9.7"
    },
    "colab": {
      "name": "train.ipynb",
      "provenance": [],
      "include_colab_link": true
    },
    "accelerator": "GPU"
  },
  "nbformat": 4,
  "nbformat_minor": 5
}